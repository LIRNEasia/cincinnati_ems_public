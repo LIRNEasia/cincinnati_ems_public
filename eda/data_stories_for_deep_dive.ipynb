{
 "cells": [
  {
   "cell_type": "code",
   "execution_count": null,
   "metadata": {
    "collapsed": false
   },
   "outputs": [],
   "source": [
    "%load_ext autoreload \n",
    "%autoreload 2\n",
    "import sys, os\n",
    "sys.path.insert(1, os.path.join(sys.path[0], '..'))\n",
    "from utils.pgtools import PGWrangler\n",
    "import pandas as pd\n",
    "\n",
    "pgw = PGWrangler()\n",
    "conn = pgw.conn"
   ]
  },
  {
   "cell_type": "markdown",
   "metadata": {},
   "source": [
    "# Helper Functions"
   ]
  },
  {
   "cell_type": "code",
   "execution_count": null,
   "metadata": {
    "collapsed": true
   },
   "outputs": [],
   "source": [
    "def escape_colon_within_quotes(string):\n",
    "    \"\"\" Helper function that replaces ',' with ' ' if in '\"' quotes\n",
    "    \n",
    "    :param str string: the string in which to replace the ','\n",
    "    :returns: string with replaced ','\n",
    "    :rtype: str\n",
    "    \n",
    "    \"\"\"\n",
    "    ret_string = \"\"\n",
    "    quote = False\n",
    "    for char in string:\n",
    "        if char == '\"':\n",
    "            if quote:\n",
    "                quote=False\n",
    "            else:\n",
    "                quote=True\n",
    "        if char == ',' and quote:\n",
    "            char = ' '\n",
    "        ret_string+=char\n",
    "    return ret_string"
   ]
  },
  {
   "cell_type": "code",
   "execution_count": null,
   "metadata": {
    "collapsed": false
   },
   "outputs": [],
   "source": [
    "def get_info(start,end):\n",
    "    \"\"\" Selects interesting fields from joint table and parses them to dataframe\n",
    "    \n",
    "    :param str start: datetime string for start of selection\n",
    "    :param str end: datetime string for end of selection\n",
    "    :returns: dataframe with potentially interesting columns\n",
    "    :rtype: pd.DataFrame\n",
    "    \n",
    "    \"\"\"\n",
    "    col_names = [('i_eventnumber','id'),\n",
    "                 ('cdf_response_typ__incident_type_desc','desc'),\n",
    "                 ('udt4_idisposition__idi_dispositiontext','disp_text'),\n",
    "                 ('cdf_response_typ__compliment','compliment'),\n",
    "                 ('dbo_rfirehouseincident__pun_unitid','punit'),\n",
    "                 (\"dbo_rfirehouseapparatus__pun_unitid\",'unit'),\n",
    "                 (\"dbo_rfirehouseapparatus__iiu_tdispatch\",'tdispatch'),\n",
    "                 (\"dbo_rfirehouseapparatus__iiu_tenroute\",'tenroute'),\n",
    "                 (\"dbo_rfirehouseapparatus__iiu_tarrive\",'tarrive'),\n",
    "                 (\"dbo_rfirehouseapparatus__iiu_tenroutehospital\",'tenroute_h'),\n",
    "                 (\"dbo_rfirehouseapparatus__iiu_tclear\",\"tclear\"),\n",
    "                 (\"dbo_rfirehouseincident__v_streetname\",\"street\"),\n",
    "                 ('\"t_destination__DESTINNAME\"',\"hospital\"),\n",
    "                 (\"latitude\",\"lat\"),\n",
    "                 (\"longitude\",\"long\"),\n",
    "                 (\"cdf_response_typ__code\",\"rcode\")\n",
    "                ]\n",
    "    col_str = \",\".join([x for (x,_) in col_names])\n",
    "    col_names_df = [x for (_,x) in col_names]\n",
    "    results = conn.execute( \n",
    "    \"\"\"select (%s) \n",
    "               from clean.join_2015_10_11_2015_10_14 \n",
    "               where \"i_ttimedispatch\" \n",
    "               between '%s' \n",
    "               and '%s'\"\"\"%(col_str,start,end))\n",
    "    df = pd.DataFrame(sorted([escape_colon_within_quotes(str(x)[3:-4]).split(',') for x in results.fetchall()]))\n",
    "    df.columns = col_names_df\n",
    "    return df\n"
   ]
  },
  {
   "cell_type": "code",
   "execution_count": null,
   "metadata": {
    "collapsed": true
   },
   "outputs": [],
   "source": [
    "# List of all hospitals locations in data set acquired by searching the hospital in google maps\n",
    "loc_hospitals = {\"Cincinnati Children's Hospital Medical Center\":(-84.504674,39.1407851),\n",
    "                 'The Jewish Hospital':(-84.3836629,39.2058405),\n",
    "                 'Mercy West (North Bend Rd)':(-84.5973485,39.1906862),\n",
    "                 'Mercy Hospital Anderson':(-84.351737,39.0857436),\n",
    "                 'Mercy Hospital Western Hills (Free Standing ER)':(-84.6189937,39.1576889),\n",
    "                 'Rookwood Medical Center':(-84.4444533,39.1530297),\n",
    "                 'Veterans Affairs Medical Center':(-84.5094072,39.1394028),\n",
    "                 'The Christ Hospital':(-84.5127466,39.1212353),\n",
    "                 'Good Samaritan Hospital':(-84.5236319,39.1397532),\n",
    "                 'Bethesda North Hospital':(-84.3433869,39.2520961),\n",
    "                 'University Hospital':(-84.5056878,39.1377437),\n",
    "                 'Mercy Hospital Fairfield':(-84.5196187,39.3123531)    \n",
    "}"
   ]
  },
  {
   "cell_type": "code",
   "execution_count": null,
   "metadata": {
    "collapsed": false
   },
   "outputs": [],
   "source": [
    "def time_location(df,unit):\n",
    "    \"\"\" Helper function that parses the specific df of get_info to a time and location for each unit\n",
    "    \n",
    "    :param pd.DataFrame df: Dataframe from get_info\n",
    "    :param str unit: Identifier for specific transport unit\n",
    "    :returns: list of times, purposes (p=patient,h=hospital), and locations for given unit\n",
    "    :rtype: [(str,str,(float,float))]\n",
    "    \n",
    "    \"\"\"\n",
    "    df_unit = df[df[\"unit\"]==unit]\n",
    "    times = []\n",
    "    for (iid,group_df) in df_unit.groupby(\"id\"):\n",
    "        dispatch_time = list(set(group_df[\"tdispatch\"]))[0]\n",
    "        clear_time = list(set(group_df[\"tclear\"]))[-1]\n",
    "        hospital_time = list(set(group_df[\"tenroute_h\"]))[0]\n",
    "        hospital = sorted(list(set(group_df[\"hospital\"])))[::-1][0].strip('\"').replace(\"\\\\\",\"\")\n",
    "        latitude = list(set(group_df[\"lat\"]))[0]\n",
    "        longitude = list(set(group_df[\"long\"]))[0]\n",
    "        times.append((dispatch_time,'p',(float(longitude),float(latitude))))\n",
    "        if hospital and hospital_time:\n",
    "            times.append((hospital_time,'h',loc_hospitals[hospital][::-1]))\n",
    "        # If the data says that the ambulance went to a hospital, but there is no hospital time, take clear time\n",
    "        # -> Manually check that clear time is not \"too close\" to dispatch time\n",
    "        elif hospital:\n",
    "            times.append((clear_time,'h_notime',loc_hospitals[hospital][::-1]))\n",
    "    return times\n",
    "    "
   ]
  },
  {
   "cell_type": "markdown",
   "metadata": {},
   "source": [
    "# Data stories"
   ]
  },
  {
   "cell_type": "markdown",
   "metadata": {},
   "source": [
    "## Story 1: incidents of Unit 23 and Unit 29 on 2015-10-12"
   ]
  },
  {
   "cell_type": "code",
   "execution_count": null,
   "metadata": {
    "collapsed": true
   },
   "outputs": [],
   "source": [
    "shift_start = '2015-10-12 07:00:00'\n",
    "shift_end = '2015-10-13 06:59:59'"
   ]
  },
  {
   "cell_type": "code",
   "execution_count": null,
   "metadata": {
    "collapsed": false
   },
   "outputs": [],
   "source": [
    "df = get_info(shift_start,shift_end)\n",
    "times_23 = [['M23']+list(x) for x in time_location(df,'M23')]\n",
    "times_29 = [['M29']+list(x) for x in time_location(df,'M29')]\n",
    "\n",
    "joint_list = times_23+times_29\n",
    "joint_list.sort(key=lambda x: x[1])\n",
    "joint_list  "
   ]
  },
  {
   "cell_type": "markdown",
   "metadata": {},
   "source": [
    "## Story 2: a specific incident on that day"
   ]
  },
  {
   "cell_type": "markdown",
   "metadata": {},
   "source": [
    "### 1. Get all incidents during busy period"
   ]
  },
  {
   "cell_type": "code",
   "execution_count": null,
   "metadata": {
    "collapsed": true
   },
   "outputs": [],
   "source": [
    "start_busy = '2015-10-12 13:10:44' \n",
    "end_busy = '2015-10-12 13:41:23'"
   ]
  },
  {
   "cell_type": "code",
   "execution_count": null,
   "metadata": {
    "collapsed": false
   },
   "outputs": [],
   "source": [
    "get_info(start_busy,end_busy)"
   ]
  },
  {
   "cell_type": "markdown",
   "metadata": {},
   "source": [
    "### 2. For the selected incident check what the units did before and after"
   ]
  },
  {
   "cell_type": "code",
   "execution_count": null,
   "metadata": {
    "collapsed": true
   },
   "outputs": [],
   "source": [
    "before = '2015-10-12 12:00:00'\n",
    "after = '2015-10-12 16:00:00'\n",
    "df = get_info(before,after)"
   ]
  },
  {
   "cell_type": "markdown",
   "metadata": {},
   "source": [
    "#### E05"
   ]
  },
  {
   "cell_type": "code",
   "execution_count": null,
   "metadata": {
    "collapsed": false
   },
   "outputs": [],
   "source": [
    "df[df[\"unit\"]=='E05']"
   ]
  },
  {
   "cell_type": "markdown",
   "metadata": {},
   "source": [
    "#### T19"
   ]
  },
  {
   "cell_type": "code",
   "execution_count": null,
   "metadata": {
    "collapsed": false
   },
   "outputs": [],
   "source": [
    "df[df[\"unit\"]=='T19']"
   ]
  },
  {
   "cell_type": "markdown",
   "metadata": {
    "collapsed": true
   },
   "source": [
    "#### M17"
   ]
  },
  {
   "cell_type": "code",
   "execution_count": null,
   "metadata": {
    "collapsed": false
   },
   "outputs": [],
   "source": [
    "df[df[\"unit\"]=='M17']"
   ]
  },
  {
   "cell_type": "markdown",
   "metadata": {},
   "source": [
    "#### M51"
   ]
  },
  {
   "cell_type": "code",
   "execution_count": null,
   "metadata": {
    "collapsed": false
   },
   "outputs": [],
   "source": [
    "df[df[\"unit\"]=='M51']"
   ]
  }
 ],
 "metadata": {
  "kernelspec": {
   "display_name": "Python 2",
   "language": "python",
   "name": "python2"
  },
  "language_info": {
   "codemirror_mode": {
    "name": "ipython",
    "version": 2
   },
   "file_extension": ".py",
   "mimetype": "text/x-python",
   "name": "python",
   "nbconvert_exporter": "python",
   "pygments_lexer": "ipython2",
   "version": "2.7.6"
  }
 },
 "nbformat": 4,
 "nbformat_minor": 0
}
