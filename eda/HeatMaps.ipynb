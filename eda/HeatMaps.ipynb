{
 "cells": [
  {
   "cell_type": "code",
   "execution_count": null,
   "metadata": {
    "collapsed": false
   },
   "outputs": [],
   "source": [
    "%matplotlib inline\n",
    "import pandas as pd\n",
    "import operator\n",
    "import psycopg2\n",
    "import pylab\n",
    "import numpy as np\n",
    "import datetime\n",
    "from sqlalchemy import create_engine\n",
    "import matplotlib.pyplot as plt\n",
    "from collections import Counter\n",
    "import matplotlib.patches as mpatches\n",
    "from scipy.stats.stats import pearsonr\n",
    "import matplotlib.lines as mlines\n",
    "import matplotlib as mpl\n",
    "from matplotlib import cm\n",
    "from mpl_toolkits.axes_grid1 import make_axes_locatable\n",
    "from statsmodels.tsa import stattools\n",
    "import statsmodels.api as sm\n",
    "import scipy\n",
    "import random\n",
    "import seaborn as sns\n",
    "from matplotlib.font_manager import FontProperties\n",
    "import matplotlib.mlab as mlab\n",
    "import re\n",
    "from collections import OrderedDict\n",
    "import statsmodels.api as sm\n",
    "from scipy import stats\n",
    "import statsmodels\n",
    "from statsmodels.graphics.api import qqplot\n",
    "\n",
    "mpl.rcdefaults()\n",
    "pd.options.display.mpl_style = 'default'"
   ]
  },
  {
   "cell_type": "code",
   "execution_count": null,
   "metadata": {
    "collapsed": false
   },
   "outputs": [],
   "source": [
    "# Read database parameters from default_profile\n",
    "dbitems = {}\n",
    "with open('default_profile') as f:\n",
    "    for line in f.readlines():\n",
    "        item = line.split(\" \")[1].split(\"=\")\n",
    "        dbitems[item[0]] = item[1].strip()\n",
    "        \n",
    "# Connect to database with psycopg2\n",
    "try:\n",
    "    conn = psycopg2.connect(\"dbname='%s' user='%s' host='%s' password='%s'\"%(dbitems['PGDATABASE'],dbitems['PGUSER'],dbitems['PGHOST'],dbitems['PGPASSWORD']))\n",
    "except:\n",
    "    print \"Unable to connect to the database\""
   ]
  },
  {
   "cell_type": "markdown",
   "metadata": {},
   "source": [
    "# Hour of Day Heatmap"
   ]
  },
  {
   "cell_type": "code",
   "execution_count": null,
   "metadata": {
    "collapsed": false
   },
   "outputs": [],
   "source": [
    "sem_df = pd.read_sql_query(\"SELECT incident, time_month, time_day, time_hour FROM semantic.master WHERE time_year = 2015\", conn)"
   ]
  },
  {
   "cell_type": "code",
   "execution_count": null,
   "metadata": {
    "collapsed": false
   },
   "outputs": [],
   "source": [
    "sem_df['day_of_week'] = sem_df.apply(lambda x: datetime.datetime(2015, int(x.time_month), int(x.time_day)).weekday(), axis=1)"
   ]
  },
  {
   "cell_type": "code",
   "execution_count": null,
   "metadata": {
    "collapsed": false
   },
   "outputs": [],
   "source": [
    "df_hour = sem_df.groupby(['day_of_week', 'time_hour']).count()"
   ]
  },
  {
   "cell_type": "code",
   "execution_count": null,
   "metadata": {
    "collapsed": false
   },
   "outputs": [],
   "source": [
    "df_hour"
   ]
  },
  {
   "cell_type": "code",
   "execution_count": null,
   "metadata": {
    "collapsed": false
   },
   "outputs": [],
   "source": [
    "hm_hour = np.zeros((7,24))"
   ]
  },
  {
   "cell_type": "code",
   "execution_count": null,
   "metadata": {
    "collapsed": false
   },
   "outputs": [],
   "source": [
    "for i in range(7):\n",
    "    for j in range(24):\n",
    "        hm_hour[i][j] = df_hour.ix[(i,(j+7)%24)].iloc[0]/52.0"
   ]
  },
  {
   "cell_type": "code",
   "execution_count": null,
   "metadata": {
    "collapsed": false
   },
   "outputs": [],
   "source": [
    "disc = raw_input('Discrete? ').lower()\n",
    "if disc != 'yes':\n",
    "    grid = raw_input('Include Grid? ').lower()\n",
    "else:\n",
    "    grid = 'yes'\n",
    "\n",
    "mpl.rcdefaults()\n",
    "plt.figure(figsize=(20,10))\n",
    "\n",
    "if disc == 'yes':\n",
    "    plt.imshow(hm_hour, interpolation='none')\n",
    "else:\n",
    "    plt.imshow(hm_hour)\n",
    "\n",
    "plt.yticks(range(7),['Monday', 'Tuesday', 'Wednesday', 'Thursday', 'Friday', 'Saturday', 'Sunday'], fontsize = 20)\n",
    "plt.xticks(range(24),range(7,24) + range(0,7), fontsize = 20)\n",
    "cb = plt.colorbar(orientation = 'horizontal')\n",
    "cb.ax.tick_params(labelsize=15) \n",
    "\n",
    "if  grid == 'yes':\n",
    "    for i in range(7):\n",
    "        plt.axhline(i-0.5, color = 'k', linewidth = 2)\n",
    "    for i in range(24):\n",
    "        plt.axvline(i-0.5, color = 'k', linewidth = 2)\n"
   ]
  },
  {
   "cell_type": "markdown",
   "metadata": {},
   "source": [
    "# Day of Month Heatmap"
   ]
  },
  {
   "cell_type": "code",
   "execution_count": null,
   "metadata": {
    "collapsed": true
   },
   "outputs": [],
   "source": [
    "df_day = sem_df.groupby(['time_month', 'time_day']).count()"
   ]
  },
  {
   "cell_type": "code",
   "execution_count": null,
   "metadata": {
    "collapsed": false
   },
   "outputs": [],
   "source": [
    "df_day"
   ]
  },
  {
   "cell_type": "code",
   "execution_count": null,
   "metadata": {
    "collapsed": true
   },
   "outputs": [],
   "source": [
    "hm_day = np.zeros((12,31))"
   ]
  },
  {
   "cell_type": "code",
   "execution_count": null,
   "metadata": {
    "collapsed": false
   },
   "outputs": [],
   "source": [
    "for i in range(1,13):\n",
    "    for j in range(1,32):\n",
    "        try:\n",
    "            hm_day[i-1][j-1] = df_day.ix[(i,j)].iloc[0]\n",
    "            if hm_day[i-1][j-1] > 300:\n",
    "                hm_day[i-1][j-1] = np.nan\n",
    "        except IndexError:\n",
    "            hm_day[i-1][j-1] = np.nan"
   ]
  },
  {
   "cell_type": "code",
   "execution_count": null,
   "metadata": {
    "collapsed": false
   },
   "outputs": [],
   "source": [
    "disc = raw_input('Discrete? ').lower()\n",
    "if disc != 'yes':\n",
    "    grid = raw_input('Include Grid? ').lower()\n",
    "else:\n",
    "    grid = 'yes'\n",
    "\n",
    "mpl.rcdefaults()\n",
    "plt.figure(figsize=(20,10))\n",
    "if disc == 'yes':\n",
    "    plt.imshow(hm_day, interpolation='none')\n",
    "else:\n",
    "    plt.imshow(hm_day)\n",
    "plt.yticks(range(12),['Jan', 'Feb', 'Mar', 'Apr', 'May','Jun','Jul','Aug','Sep','Oct','Nov','Dec'], fontsize = 20)\n",
    "plt.xticks(range(31),range(1,32), fontsize = 20)\n",
    "cb = plt.colorbar(orientation = 'horizontal')\n",
    "cb.ax.tick_params(labelsize=15) \n",
    "\n",
    "if  grid == 'yes':\n",
    "    for i in range(12):\n",
    "        plt.axhline(i-0.5, color = 'k', linewidth = 2)\n",
    "    for i in range(31):\n",
    "        plt.axvline(i-0.5, color = 'k', linewidth = 2)\n"
   ]
  },
  {
   "cell_type": "code",
   "execution_count": null,
   "metadata": {
    "collapsed": true
   },
   "outputs": [],
   "source": []
  }
 ],
 "metadata": {
  "kernelspec": {
   "display_name": "Python 2",
   "language": "python",
   "name": "python2"
  },
  "language_info": {
   "codemirror_mode": {
    "name": "ipython",
    "version": 2
   },
   "file_extension": ".py",
   "mimetype": "text/x-python",
   "name": "python",
   "nbconvert_exporter": "python",
   "pygments_lexer": "ipython2",
   "version": "2.7.6"
  }
 },
 "nbformat": 4,
 "nbformat_minor": 0
}
