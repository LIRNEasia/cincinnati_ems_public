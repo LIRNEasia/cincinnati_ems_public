{
 "cells": [
  {
   "cell_type": "code",
   "execution_count": null,
   "metadata": {
    "collapsed": false
   },
   "outputs": [],
   "source": [
    "%matplotlib inline\n",
    "import pandas as pd\n",
    "import operator\n",
    "import psycopg2\n",
    "import pylab\n",
    "import numpy as np\n",
    "import datetime\n",
    "from sqlalchemy import create_engine\n",
    "import matplotlib.pyplot as plt\n",
    "from collections import Counter\n",
    "import matplotlib.patches as mpatches\n",
    "from scipy.stats.stats import pearsonr\n",
    "import matplotlib.lines as mlines\n",
    "import matplotlib as mpl\n",
    "from matplotlib import cm\n",
    "from mpl_toolkits.axes_grid1 import make_axes_locatable\n",
    "from statsmodels.tsa import stattools\n",
    "import statsmodels.api as sm\n",
    "import scipy\n",
    "import random\n",
    "import seaborn as sns\n",
    "from matplotlib.font_manager import FontProperties\n",
    "import matplotlib.mlab as mlab\n",
    "import re\n",
    "from collections import OrderedDict\n",
    "import statsmodels.api as sm\n",
    "from scipy import stats\n",
    "import statsmodels\n",
    "from statsmodels.graphics.api import qqplot\n",
    "\n",
    "mpl.rcdefaults()\n",
    "pd.options.display.mpl_style = 'default'"
   ]
  },
  {
   "cell_type": "code",
   "execution_count": null,
   "metadata": {
    "collapsed": true
   },
   "outputs": [],
   "source": [
    "# Read database parameters from default_profile\n",
    "dbitems = {}\n",
    "with open('default_profile') as f:\n",
    "    for line in f.readlines():\n",
    "        item = line.split(\" \")[1].split(\"=\")\n",
    "        dbitems[item[0]] = item[1].strip()\n",
    "        \n",
    "# Connect to database with psycopg2\n",
    "try:\n",
    "    conn = psycopg2.connect(\"dbname='%s' user='%s' host='%s' password='%s'\"%(dbitems['PGDATABASE'],dbitems['PGUSER'],dbitems['PGHOST'],dbitems['PGPASSWORD']))\n",
    "except:\n",
    "    print \"Unable to connect to the database\"\n",
    "    \n",
    "# Connect to database with sqalchemy\n",
    "conn_sqlalch = create_engine('postgresql+psycopg2://%s:%s@%s/%s'%(dbitems['PGUSER'],dbitems['PGPASSWORD'],dbitems['PGHOST'],dbitems['PGDATABASE']))"
   ]
  },
  {
   "cell_type": "markdown",
   "metadata": {},
   "source": [
    "# Code"
   ]
  },
  {
   "cell_type": "code",
   "execution_count": null,
   "metadata": {
    "collapsed": true
   },
   "outputs": [],
   "source": [
    "#input dataframe\n",
    "cad_df = pd.read_sql_query(\"SELECT i_eventnumber, iiu_tdispatch, iiu_tclear, pun_unitid FROM clean_csvs.dbo_rfirehouseapparatus\", conn)"
   ]
  },
  {
   "cell_type": "code",
   "execution_count": null,
   "metadata": {
    "collapsed": false
   },
   "outputs": [],
   "source": [
    "#get year\n",
    "cad_df['year'] = cad_df['iiu_tdispatch'].apply(lambda x: x.year)"
   ]
  },
  {
   "cell_type": "code",
   "execution_count": null,
   "metadata": {
    "collapsed": false
   },
   "outputs": [],
   "source": [
    "#subset to only 2014 - 2016\n",
    "cad_df = cad_df[cad_df['year'] >= 2014]"
   ]
  },
  {
   "cell_type": "code",
   "execution_count": null,
   "metadata": {
    "collapsed": false
   },
   "outputs": [],
   "source": [
    "#get only medic with two numbers\n",
    "medic_df = cad_df[cad_df['pun_unitid'].apply(lambda x: x[0] == 'M')]\n",
    "medic_df = medic_df[medic_df['pun_unitid'].apply(lambda x: len(x) == 3)]"
   ]
  },
  {
   "cell_type": "code",
   "execution_count": null,
   "metadata": {
    "collapsed": false
   },
   "outputs": [],
   "source": [
    "medic_df.index = range(len(medic_df))\n",
    "medic_df = medic_df.sort('iiu_tdispatch')"
   ]
  },
  {
   "cell_type": "code",
   "execution_count": null,
   "metadata": {
    "collapsed": false
   },
   "outputs": [],
   "source": [
    "i = 0\n",
    "for item in medic_df['iiu_tdispatch']:\n",
    "    if item.hour < 7:\n",
    "        i += 1\n",
    "    else:\n",
    "        break\n",
    "medic_df = medic_df[i:]"
   ]
  },
  {
   "cell_type": "code",
   "execution_count": null,
   "metadata": {
    "collapsed": false
   },
   "outputs": [],
   "source": [
    "init = datetime.datetime(2013,1,1,7,0,0)\n",
    "medic_df['shift'] = medic_df['iiu_tdispatch'].apply(lambda x: int((x-init).total_seconds()/3600/24 + 1))"
   ]
  },
  {
   "cell_type": "code",
   "execution_count": null,
   "metadata": {
    "collapsed": false
   },
   "outputs": [],
   "source": [
    "#get dictionary of mt units\n",
    "dict_units = {}\n",
    "for item in set(medic_df['pun_unitid']):\n",
    "    dict_units[item] = []\n",
    "\n",
    "gb_shift = medic_df.groupby('shift')\n",
    "for name,group in gb_shift:\n",
    "    gb_unit = group.groupby('pun_unitid')\n",
    "    for name2, group2 in gb_unit:\n",
    "        dict_units[name2].append(len(group2))"
   ]
  },
  {
   "cell_type": "code",
   "execution_count": null,
   "metadata": {
    "collapsed": false
   },
   "outputs": [],
   "source": [
    "#get median runs per medic\n",
    "median_tups = []\n",
    "for item in dict_units.keys():\n",
    "    median_tups.append((item, np.median(dict_units[item])))\n",
    "    \n",
    "\n",
    " "
   ]
  },
  {
   "cell_type": "code",
   "execution_count": null,
   "metadata": {
    "collapsed": false
   },
   "outputs": [],
   "source": [
    "median_tups = sorted(median_tups, key = lambda x: x[1])"
   ]
  },
  {
   "cell_type": "code",
   "execution_count": null,
   "metadata": {
    "collapsed": false
   },
   "outputs": [],
   "source": [
    "#plot median runs per medic units\n",
    "mpl.rcdefaults()\n",
    "y_pos = np.arange(len(dict_units))\n",
    " \n",
    "plt.bar(y_pos, [i[1] for i in median_tups], align='center')\n",
    "plt.axhline(y = 8, color = 'r' ,linewidth = 2)\n",
    "#plt.axhline(y = 12, color = 'r', linewidth = 2)\n",
    "plt.xticks(y_pos, [i[0] for i in median_tups], rotation = 90)\n",
    "plt.ylabel('Number of Runs per Shift')\n",
    "plt.title('Median Runs Per Medic Unit')\n",
    "\n",
    "plt.savefig('median.jpg')"
   ]
  },
  {
   "cell_type": "code",
   "execution_count": null,
   "metadata": {
    "collapsed": false
   },
   "outputs": [],
   "source": [
    "#generate history of dispatch and clear times \n",
    "hist_tups = []\n",
    "for index,item in medic_df.iterrows():\n",
    "    hist_tups.append((item['pun_unitid'], item['iiu_tdispatch'], 'D'))\n",
    "    hist_tups.append((item['pun_unitid'], item['iiu_tclear'], 'C'))"
   ]
  },
  {
   "cell_type": "code",
   "execution_count": null,
   "metadata": {
    "collapsed": false
   },
   "outputs": [],
   "source": [
    "hist_tups = sorted(hist_tups, key = lambda x: x[1])"
   ]
  },
  {
   "cell_type": "code",
   "execution_count": null,
   "metadata": {
    "collapsed": false
   },
   "outputs": [],
   "source": [
    "units_busy = {}\n",
    "for item in set(medic_df['pun_unitid']):\n",
    "    units_busy[item] = 0"
   ]
  },
  {
   "cell_type": "code",
   "execution_count": null,
   "metadata": {
    "collapsed": false
   },
   "outputs": [],
   "source": [
    "busy_history = []\n",
    "for item in hist_tups:\n",
    "    if item[2] == 'C':\n",
    "        units_busy[item[0]] = 0\n",
    "    else:\n",
    "        units_busy[item[0]] = 1\n",
    "    busy_history.append((item[1], sum(units_busy.values())))"
   ]
  },
  {
   "cell_type": "code",
   "execution_count": null,
   "metadata": {
    "collapsed": false
   },
   "outputs": [],
   "source": [
    "#Get business for a particular day in each year\n",
    "year = 2013\n",
    "month = 4\n",
    "day = 1\n",
    "\n",
    "f, ((ax1, ax2), (ax3, ax4)) = plt.subplots(2, 2)\n",
    "ax1.step([i[0] for i in busy_history], [i[1] for i in busy_history])\n",
    "ax1.set_xlim(datetime.datetime(year,month,day), datetime.datetime(year,month,day+1))\n",
    "ax1.set_xticklabels([])\n",
    "ax1.set_title('April 1, 2013')\n",
    "ax1.set_ylabel(\"MT U/A\")\n",
    "\n",
    "ax2.step([i[0] for i in busy_history], [i[1] for i in busy_history])\n",
    "ax2.set_xlim(datetime.datetime(year+1,month,day), datetime.datetime(year+1,month,day+1))\n",
    "ax2.set_xticklabels([])\n",
    "ax2.set_title('April 1, 2014')\n",
    "ax2.set_ylabel(\"MT U/A\")\n",
    "\n",
    "ax3.step([i[0] for i in busy_history], [i[1] for i in busy_history])\n",
    "ax3.set_xlim(datetime.datetime(year+2,month,day), datetime.datetime(year+2,month,day+1))\n",
    "ax3.set_xticklabels([])\n",
    "ax3.set_title('April 1, 2015')\n",
    "ax3.set_ylabel(\"MT U/A\")\n",
    "\n",
    "ax4.step([i[0] for i in busy_history], [i[1] for i in busy_history])\n",
    "ax4.set_xlim(datetime.datetime(year+3,month,day), datetime.datetime(year+3,month,day+1))\n",
    "ax4.set_xticklabels([])\n",
    "ax4.set_title('April 1, 2016')\n",
    "ax4.set_ylabel(\"MT U/A\")\n",
    "\n",
    "plt.savefig('BusyMedics.jpg')"
   ]
  },
  {
   "cell_type": "code",
   "execution_count": null,
   "metadata": {
    "collapsed": true
   },
   "outputs": [],
   "source": [
    "all_busy = [i for i in busy_history if i[1] >= 10]"
   ]
  },
  {
   "cell_type": "code",
   "execution_count": null,
   "metadata": {
    "collapsed": false
   },
   "outputs": [],
   "source": [
    "plt.plot([i[0] for i in all_busy], [i[1] for i in all_busy])\n",
    "plt.xticks(rotation = 90)\n",
    "day = 1\n",
    "plt.xlim(datetime.datetime(2013,1,1), datetime.datetime(2013,6,2))"
   ]
  },
  {
   "cell_type": "code",
   "execution_count": null,
   "metadata": {
    "collapsed": false
   },
   "outputs": [],
   "source": [
    "#get business at each time of day\n",
    "busy_history_morn = [i for i in busy_history if i[0].hour in [7,8,9,10,11,12]]\n",
    "busy_history_aft = [i for i in busy_history if i[0].hour in [13,14,15,16,17,18]]\n",
    "busy_history_night = [i for i in busy_history if i[0].hour in [19,20,21,22,23,24]]\n",
    "busy_history_late = [i for i in busy_history if i[0].hour in [1,2,3,4,5,6]]"
   ]
  },
  {
   "cell_type": "code",
   "execution_count": null,
   "metadata": {
    "collapsed": false
   },
   "outputs": [],
   "source": [
    "np.median([i[1] for i in busy_history_morn]), np.median([i[1] for i in busy_history_aft]), np.median([i[1] for i in busy_history_night]), np.median([i[1] for i in busy_history_late])"
   ]
  },
  {
   "cell_type": "code",
   "execution_count": null,
   "metadata": {
    "collapsed": true
   },
   "outputs": [],
   "source": []
  }
 ],
 "metadata": {
  "kernelspec": {
   "display_name": "Python 2",
   "language": "python",
   "name": "python2"
  },
  "language_info": {
   "codemirror_mode": {
    "name": "ipython",
    "version": 2
   },
   "file_extension": ".py",
   "mimetype": "text/x-python",
   "name": "python",
   "nbconvert_exporter": "python",
   "pygments_lexer": "ipython2",
   "version": "2.7.6"
  }
 },
 "nbformat": 4,
 "nbformat_minor": 0
}
