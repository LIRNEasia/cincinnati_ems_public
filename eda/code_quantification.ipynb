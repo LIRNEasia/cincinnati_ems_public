{
 "cells": [
  {
   "cell_type": "markdown",
   "metadata": {},
   "source": [
    "# Descriptive stats for EMS codes"
   ]
  },
  {
   "cell_type": "code",
   "execution_count": null,
   "metadata": {
    "collapsed": false
   },
   "outputs": [],
   "source": [
    "%load_ext autoreload \n",
    "%autoreload 2\n",
    "%matplotlib inline\n",
    "from __future__ import division\n",
    "import sys, os\n",
    "sys.path.insert(1, os.path.join(sys.path[0], '..'))\n",
    "from utils.pg_tools import PGWrangler\n",
    "import pandas as pd\n",
    "pd.options.display.mpl_style = 'default'  # Will raise error because deprecated\n",
    "import matplotlib.pyplot as plt\n",
    "plt.rcParams['figure.figsize'] = (10, 6)\n",
    "plt.rcParams.update({'font.size': 22})\n",
    "plt.rcParams['legend.fancybox'] = True\n",
    "import numpy as np\n",
    "from matplotlib import gridspec\n",
    "\n",
    "pgw = PGWrangler()\n",
    "engine = pgw.engine"
   ]
  },
  {
   "cell_type": "markdown",
   "metadata": {},
   "source": [
    "## Load table and sanitize"
   ]
  },
  {
   "cell_type": "code",
   "execution_count": null,
   "metadata": {
    "collapsed": false
   },
   "outputs": [],
   "source": [
    "# Load feature table form Karen\n",
    "df = pd.read_sql_table('master',engine.connect(),'semantic')"
   ]
  },
  {
   "cell_type": "code",
   "execution_count": null,
   "metadata": {
    "collapsed": false
   },
   "outputs": [],
   "source": [
    "# Select only codes with year > 2012\n",
    "df = df[df['i_eventnumber'].apply(lambda x: int(x[3:5])>12)]"
   ]
  },
  {
   "cell_type": "code",
   "execution_count": null,
   "metadata": {
    "collapsed": false
   },
   "outputs": [],
   "source": [
    "# Convert number of units from float to string\n",
    "#df['count'] = df['count'].apply(lambda x: \"%d\"%int(x) if not np.isnan(x) else 'NaN')"
   ]
  },
  {
   "cell_type": "markdown",
   "metadata": {},
   "source": [
    "### Split eventnumber into class, severity, and specifiers"
   ]
  },
  {
   "cell_type": "code",
   "execution_count": null,
   "metadata": {
    "collapsed": true
   },
   "outputs": [],
   "source": [
    "import re\n",
    "def parse_id(ID):\n",
    "    try:\n",
    "        re_string = \"^(\\d+)([A-F]+)(.*)\"\n",
    "        m = re.search(re_string,ID)\n",
    "        id_type = \"%d\"%int(m.group(1))\n",
    "        severity = m.group(2)\n",
    "        specifiers = m.group(3)\n",
    "    except:\n",
    "        #print('Unable to match re: '+re_string+' to '+ID)\n",
    "        return(ID,None,None)\n",
    "    return(id_type,severity,specifiers)"
   ]
  },
  {
   "cell_type": "code",
   "execution_count": null,
   "metadata": {
    "collapsed": false
   },
   "outputs": [],
   "source": [
    "df['id_type'] = df['iti_typeid'].map(lambda x: parse_id(x)[0])\n",
    "df['id_severity'] = df['iti_typeid'].map(lambda x: parse_id(x)[1])\n",
    "df['id_specifiers'] = df['iti_typeid'].map(lambda x: parse_id(x)[2])"
   ]
  },
  {
   "cell_type": "markdown",
   "metadata": {},
   "source": [
    "### Split eventnumbers into year-month-day"
   ]
  },
  {
   "cell_type": "code",
   "execution_count": null,
   "metadata": {
    "collapsed": false
   },
   "outputs": [],
   "source": [
    "# Select day, month, and year for lunar phase estimation\n",
    "df['day'] = df['i_eventnumber'].apply(lambda x: int(x[7:9]))\n",
    "df['month'] = df['i_eventnumber'].apply(lambda x: int(x[5:7]))\n",
    "df['year'] = df['i_eventnumber'].apply(lambda x: int(\"20%s\"%x[3:5]))\n",
    "df['hour'] = df['i_ttimecreate'].apply(lambda x: x.hour)"
   ]
  },
  {
   "cell_type": "markdown",
   "metadata": {},
   "source": [
    "## Compute true and false positives and negatives"
   ]
  },
  {
   "cell_type": "code",
   "execution_count": null,
   "metadata": {
    "collapsed": false
   },
   "outputs": [],
   "source": [
    "df['trns_to_hosp'] = df['trns_to_hosp']==True"
   ]
  },
  {
   "cell_type": "code",
   "execution_count": null,
   "metadata": {
    "collapsed": false
   },
   "outputs": [],
   "source": [
    "df['fp'] = df['m_required'] & (~df['trns_to_hosp'])\n",
    "df['fn'] = (~df['m_required']) & df['trns_to_hosp']\n",
    "df['tp'] = df['m_required'] & (df['trns_to_hosp'])\n",
    "df['tn'] = (~df['m_required']) & (~df['trns_to_hosp'])"
   ]
  },
  {
   "cell_type": "code",
   "execution_count": null,
   "metadata": {
    "collapsed": false
   },
   "outputs": [],
   "source": [
    "print(\"FP: %.2f\"%(sum(df['fp'])/len(df)))\n",
    "print(\"FN: %.2f\"%(sum(df['fn'])/len(df)))\n",
    "print(\"TP: %.2f\"%(sum(df['tp'])/len(df)))\n",
    "print(\"TN: %.2f\"%(sum(df['tn'])/len(df)))"
   ]
  },
  {
   "cell_type": "code",
   "execution_count": null,
   "metadata": {
    "collapsed": false
   },
   "outputs": [],
   "source": [
    "print(\"Match: required-sent %.2f\"%(sum(df['m_required']==df['m_sent'])/len(df)))\n",
    "print(\"Match: required-trns %.2f\"%(sum(df['m_required']==df['trns_to_hosp'])/len(df)))\n",
    "print(\"Match: sent-trns %.2f\"%(sum(df['trns_to_hosp']==df['m_sent'])/len(df)))"
   ]
  },
  {
   "cell_type": "markdown",
   "metadata": {},
   "source": [
    "### Recode class to classlabel by hand"
   ]
  },
  {
   "cell_type": "code",
   "execution_count": null,
   "metadata": {
    "collapsed": false
   },
   "outputs": [],
   "source": [
    "types = {0:'Case',\n",
    "         1:'Abdominal',\n",
    "         2:'Allergies',\n",
    "         3:'Animal',\n",
    "         4:'Assault',\n",
    "         5:'Back',\n",
    "         6:'Breathing',\n",
    "         7:'Burns',\n",
    "         8:'CO',\n",
    "         9:'Cardiac',\n",
    "         10:'Chest',\n",
    "         11:'Chocking',\n",
    "         12:'Convulsions',\n",
    "         13:'Diabetic',\n",
    "         14:'Drowning',\n",
    "         15:'Electrocution',\n",
    "         16:'Eye',\n",
    "         17:'Falls',\n",
    "         18:'Headache',\n",
    "         19:'Heart',\n",
    "         20:'Heat',\n",
    "         21:'Hemorrhage',\n",
    "         22:'Inaccessible',\n",
    "         23:'Overdose',\n",
    "         24:'Pregnancy',\n",
    "         25:'Psychiatric',\n",
    "         26:'Sick',\n",
    "         27:'Penetration',\n",
    "         28:'Stroke',\n",
    "         29:'Traffic',\n",
    "         30:'Traumatic',\n",
    "         31:'Unconscious',\n",
    "         32:'Unknown',\n",
    "         33:'Transfer'}"
   ]
  },
  {
   "cell_type": "code",
   "execution_count": null,
   "metadata": {
    "collapsed": false
   },
   "outputs": [],
   "source": [
    "def type_to_str(x):\n",
    "    try:\n",
    "        return types_str[x]\n",
    "    except:\n",
    "        return x\n",
    "def id_dict_to_str(x):\n",
    "    type_str = type_to_str(x[0])\n",
    "    if x[1]:\n",
    "        type_str+='-'+x[1]+x[2]\n",
    "    return type_str\n",
    "\n",
    "types_str = {\"%d\"%x:types[x].upper() for x in types}\n",
    "df['type']=df['id_type'].apply(lambda x: type_to_str(x))\n",
    "df['id_full'] = df['iti_typeid'].map(lambda x: id_dict_to_str(parse_id(x)))"
   ]
  },
  {
   "cell_type": "markdown",
   "metadata": {},
   "source": [
    "# Analysis"
   ]
  },
  {
   "cell_type": "code",
   "execution_count": null,
   "metadata": {
    "collapsed": false
   },
   "outputs": [],
   "source": [
    "df.head(10)"
   ]
  },
  {
   "cell_type": "markdown",
   "metadata": {},
   "source": [
    "## Code-specific stats"
   ]
  },
  {
   "cell_type": "markdown",
   "metadata": {},
   "source": [
    "### 26A9: Sick person - transport only (code from site visit)"
   ]
  },
  {
   "cell_type": "code",
   "execution_count": null,
   "metadata": {
    "collapsed": false
   },
   "outputs": [],
   "source": [
    "# Code: Sick person - transport only\n",
    "code_26A9 = df.groupby('iti_typeid').get_group('26A9')\n",
    "print(\"FP for sick/transport: %.2f\"%(code_26A9['fp'].sum()/len(code_26A9)))\n",
    "print(\"TP for sick/transport: %.2f\"%(code_26A9['tp'].sum()/len(code_26A9)))\n",
    "print(\"Fraction of sick/transport calls: %.4f\"%(len(code_26A9)/len(df)))"
   ]
  },
  {
   "cell_type": "markdown",
   "metadata": {},
   "source": [
    "### Stats by day of month"
   ]
  },
  {
   "cell_type": "code",
   "execution_count": null,
   "metadata": {
    "collapsed": false
   },
   "outputs": [],
   "source": [
    "df[(~(df['month']==2)) & (df['day']<31)]['day'].hist(bins=30)\n",
    "plt.xlabel('Day of the month')\n",
    "plt.ylabel('Incident count 2013-2015')\n",
    "_ = plt.xlim([1,30])"
   ]
  },
  {
   "cell_type": "code",
   "execution_count": null,
   "metadata": {
    "collapsed": false
   },
   "outputs": [],
   "source": [
    "df[(~(df['month']==2)) & (df['day']<31) & (df['id_type']=='23')]['day'].hist(bins=30)\n",
    "plt.xlabel('Day of the month')\n",
    "plt.ylabel('OD count 2013-2015')\n",
    "_ = plt.xlim([1,30])"
   ]
  },
  {
   "cell_type": "markdown",
   "metadata": {},
   "source": [
    "## Summary Stats"
   ]
  },
  {
   "cell_type": "code",
   "execution_count": null,
   "metadata": {
    "collapsed": false
   },
   "outputs": [],
   "source": [
    "def hist_by_column(col_name):\n",
    "    group_col = df.groupby(col_name)\n",
    "    N_events = group_col['i_eventnumber'].count().sort_values()\n",
    "    plt.hist(N_events)\n",
    "    plt.xlabel('Count')\n",
    "    plt.ylabel('Frequency')\n",
    "    plt.title(col_name.replace('_',' '))\n",
    "    print('Most frequent:')\n",
    "    print(N_events.tail(5)[::-1])\n",
    "def bar_by_column(col_name):\n",
    "    group_col = df.groupby(col_name)\n",
    "    x = []\n",
    "    y = []\n",
    "    for (name,group) in group_col:\n",
    "        x.append(name)\n",
    "        y.append(len(group))\n",
    "    x_plot = np.arange(len(x))\n",
    "    plt.figure()\n",
    "    plt.bar(x_plot-0.4,y,width=0.8)\n",
    "    plt.xticks(x_plot,x)\n",
    "    plt.xlabel(col_name.replace('_',' '))\n",
    "    plt.ylabel('Count')"
   ]
  },
  {
   "cell_type": "code",
   "execution_count": null,
   "metadata": {
    "collapsed": false
   },
   "outputs": [],
   "source": [
    "hist_by_column('id_type')"
   ]
  },
  {
   "cell_type": "code",
   "execution_count": null,
   "metadata": {
    "collapsed": false
   },
   "outputs": [],
   "source": [
    "bar_by_column('id_severity')"
   ]
  },
  {
   "cell_type": "markdown",
   "metadata": {},
   "source": [
    "# TrueFalsePositiveNegative Analyses"
   ]
  },
  {
   "cell_type": "code",
   "execution_count": null,
   "metadata": {
    "collapsed": false
   },
   "outputs": [],
   "source": [
    "def tfpn_highfreq(col_name,sort='count',N=10,plot_scatters=False,start=0):\n",
    "    name_dict = {'type':'Incident type',\n",
    "                 'id_full':'Incident type',\n",
    "                 'id_severity':'Incident severity'}\n",
    "    try:\n",
    "        name = name_dict[col_name]\n",
    "    except:\n",
    "        name = col_name.replace('_',' ')\n",
    "    highfreq_ids = list(df.groupby(col_name)['i_eventnumber'].count().sort_values().tail(N).index)\n",
    "    CALC_COLS = ['fp','fn','tp','tn']\n",
    "    df_highfreq = df[df[col_name].isin(highfreq_ids)]\n",
    "    df_tfpn = df_highfreq.groupby(col_name).agg({x:(lambda y: sum(y)/len(y)) for x in CALC_COLS})\n",
    "    df_count = df_highfreq.groupby(col_name).agg({'id_type':(lambda x: len(x))})\n",
    "    if sort=='count':\n",
    "        df_tfpn = df_tfpn.reindex(highfreq_ids)\n",
    "        df_count = df_count.reindex(highfreq_ids)\n",
    "    elif sort=='col':\n",
    "        df_tfpn = df_tfpn[::-1]\n",
    "        df_count = df_count[::-1]\n",
    "    else:\n",
    "        print('Sorting not implemented')\n",
    "        return\n",
    "    \n",
    "    # Plot tfpn + count\n",
    "    plt.figure(figsize=(10,1+(N-start)//2))\n",
    "    gs = gridspec.GridSpec(1, 2, width_ratios=[3, 1]) \n",
    "    ax1 = plt.subplot(gs[0])\n",
    "    ax2 = plt.subplot(gs[1])\n",
    "    df_tfpn[CALC_COLS][::-1][start:][::-1].plot.barh(stacked=True,ax=ax1)\n",
    "    df_count[::-1][start:][::-1].plot.barh(ax=ax2,legend=False)\n",
    "    ax2.set_xlim([0,df_count['id_type'].max()])\n",
    "    ax2.yaxis.set_major_locator(plt.NullLocator())\n",
    "    ax2.xaxis.set_major_locator(plt.MaxNLocator(2))\n",
    "    ax1.set_ylabel(name)\n",
    "    ax1.set_xlabel('Performance')\n",
    "    ax2.set_xlabel('Count')\n",
    "    ax2.set_ylabel('')\n",
    "    # Recolour patches\n",
    "    bars = ax1.patches\n",
    "    hatch_dict = {'tp':'\\\\','tn':' ','fp':'\\\\','fn':' '}\n",
    "    col_dict = {'tp':'#467821','tn':'#467821','fp':'#A60628','fn':'#A60628'}\n",
    "    hatches = ''.join(h*len(df_tfpn[start:]) for h in [hatch_dict[x] for x in CALC_COLS])\n",
    "    tmp_colors = [[c]*len(df_tfpn[start:]) for c in [col_dict[x] for x in CALC_COLS]]\n",
    "    colors = []\n",
    "    for c in tmp_colors:\n",
    "        colors.extend(c)\n",
    "    for bar, hatch, color in zip(bars, hatches, colors):\n",
    "        bar.set_facecolor(color)\n",
    "        bar.set_hatch(hatch)\n",
    "    legend = ax1.legend(loc='best')\n",
    "    legend.set_visible(False)\n",
    "    \n",
    "    if plot_scatters:\n",
    "        # Plot scatter\n",
    "        plt.figure()\n",
    "        ax=plt.gca()\n",
    "        df_tfpn['count']=(df_count['id_type']/df_count['id_type'].max())*500\n",
    "        df_tfpn.plot(kind='scatter',x='tn',y='fn',s=df_tfpn['count'],color='#348ABD',label='Code: no MT',ax=ax)\n",
    "        df_tfpn.plot(kind='scatter',x='tp',y='fp',s=df_tfpn['count'],color='#7A68A6',label='Code: MT',hatch='\\\\',ax=ax)\n",
    "        plt.xlabel('Code correct [%]')\n",
    "        plt.ylabel('Code wrong [%]')\n",
    "        ax.set_xlim(xmin=0,xmax=1)\n",
    "        ax.set_ylim(ymin=0,ymax=1)\n",
    "        ax.set_aspect('equal', adjustable='box')\n",
    "\n",
    "        plt.figure()\n",
    "        ax=plt.gca()\n",
    "        df_tfpn.hist('tp',color='#7A68A6',hatch='\\\\',alpha=0.6,range=(0,1),ax=ax,label='Code: MT')\n",
    "        df_tfpn.hist('tn',color='#348ABD',alpha=0.6,range=(0,1),ax=ax,label='Code: no MT')\n",
    "        plt.legend(loc='best')\n",
    "        plt.title('')\n",
    "        plt.xlabel('Fraction correct')\n",
    "        plt.ylabel('Count')"
   ]
  },
  {
   "cell_type": "code",
   "execution_count": null,
   "metadata": {
    "collapsed": false
   },
   "outputs": [],
   "source": [
    "tfpn_highfreq(col_name='type',sort='count',N=20)"
   ]
  },
  {
   "cell_type": "code",
   "execution_count": null,
   "metadata": {
    "collapsed": false
   },
   "outputs": [],
   "source": [
    "#tfpn_highfreq(col_name='type',sort='count',N=20,start=10)"
   ]
  },
  {
   "cell_type": "code",
   "execution_count": null,
   "metadata": {
    "collapsed": false
   },
   "outputs": [],
   "source": [
    "tfpn_highfreq(col_name='id_severity',sort='col',N=8)"
   ]
  },
  {
   "cell_type": "code",
   "execution_count": null,
   "metadata": {
    "collapsed": false
   },
   "outputs": [],
   "source": [
    "tfpn_highfreq(col_name='id_full',sort='count',N=30)"
   ]
  },
  {
   "cell_type": "code",
   "execution_count": null,
   "metadata": {
    "collapsed": false
   },
   "outputs": [],
   "source": [
    "tfpn_highfreq(col_name='id_full',sort='count',N=20,start=10)"
   ]
  },
  {
   "cell_type": "code",
   "execution_count": null,
   "metadata": {
    "collapsed": false
   },
   "outputs": [],
   "source": [
    "tfpn_highfreq(col_name='count',sort='col',N=10)"
   ]
  },
  {
   "cell_type": "code",
   "execution_count": null,
   "metadata": {
    "collapsed": false
   },
   "outputs": [],
   "source": [
    "tfpn_highfreq(col_name='iti_typeid',sort='count',N=8)"
   ]
  }
 ],
 "metadata": {
  "kernelspec": {
   "display_name": "Python 2",
   "language": "python",
   "name": "python2"
  },
  "language_info": {
   "codemirror_mode": {
    "name": "ipython",
    "version": 2
   },
   "file_extension": ".py",
   "mimetype": "text/x-python",
   "name": "python",
   "nbconvert_exporter": "python",
   "pygments_lexer": "ipython2",
   "version": "2.7.6"
  }
 },
 "nbformat": 4,
 "nbformat_minor": 0
}
