{
 "cells": [
  {
   "cell_type": "markdown",
   "metadata": {},
   "source": [
    "# Ritvik_Tests:\n",
    "# Question: Which types of incidents have the most undersends/oversends? (Answered but needs editing)\n",
    "# Question: Can we visualize when during the week is the highest traffic of incidents? (Answered)\n",
    "# Question: Can we measure the distribution of workload amongst medics? (Answered)\n",
    "# Question: Can we determine which geographical areas are most EMS active? (In Progress)"
   ]
  },
  {
   "cell_type": "markdown",
   "metadata": {},
   "source": [
    "## Imports"
   ]
  },
  {
   "cell_type": "code",
   "execution_count": null,
   "metadata": {
    "collapsed": false
   },
   "outputs": [],
   "source": [
    "%matplotlib inline\n",
    "import pandas as pd\n",
    "import operator\n",
    "import psycopg2\n",
    "import numpy as np\n",
    "import datetime\n",
    "from sqlalchemy import create_engine\n",
    "import matplotlib.pyplot as plt\n",
    "from collections import Counter\n",
    "import matplotlib.patches as mpatches\n",
    "from scipy.stats.stats import pearsonr\n",
    "import matplotlib.lines as mlines\n",
    "import matplotlib as mpl\n",
    "from matplotlib import cm\n",
    "from mpl_toolkits.axes_grid1 import make_axes_locatable\n",
    "from statsmodels.tsa import stattools\n",
    "import statsmodels.api as sm\n",
    "import scipy\n",
    "import random\n",
    "import seaborn as sns\n",
    "from matplotlib.font_manager import FontProperties\n",
    "import matplotlib.mlab as mlab\n",
    "\n",
    "mpl.rcdefaults()\n",
    "\n",
    "# Prettier plots:\n",
    "#import matplotlib\n",
    "#matplotlib.pyplot.style.use('ggplot') # Not supported by current version\n",
    "pd.options.display.mpl_style = 'default'  # Will raise error because deprecated"
   ]
  },
  {
   "cell_type": "markdown",
   "metadata": {},
   "source": [
    "## Connection to database"
   ]
  },
  {
   "cell_type": "code",
   "execution_count": null,
   "metadata": {
    "collapsed": false
   },
   "outputs": [],
   "source": [
    "# Read database parameters from default_profile\n",
    "dbitems = {}\n",
    "with open('default_profile') as f:\n",
    "    for line in f.readlines():\n",
    "        item = line.split(\" \")[1].split(\"=\")\n",
    "        dbitems[item[0]] = item[1].strip()"
   ]
  },
  {
   "cell_type": "code",
   "execution_count": null,
   "metadata": {
    "collapsed": false
   },
   "outputs": [],
   "source": [
    "# Connect to database with psycopg2\n",
    "try:\n",
    "    conn = psycopg2.connect(\"dbname='%s' user='%s' host='%s' password='%s'\"%(dbitems['PGDATABASE'],dbitems['PGUSER'],dbitems['PGHOST'],dbitems['PGPASSWORD']))\n",
    "except:\n",
    "    print \"Unable to connect to the database\""
   ]
  },
  {
   "cell_type": "code",
   "execution_count": null,
   "metadata": {
    "collapsed": false
   },
   "outputs": [],
   "source": [
    "# Connect to database with sqalchemy\n",
    "conn_sqlalch = create_engine('postgresql+psycopg2://%s:%s@%s/%s'%(dbitems['PGUSER'],dbitems['PGPASSWORD'],dbitems['PGHOST'],dbitems['PGDATABASE']))"
   ]
  },
  {
   "cell_type": "markdown",
   "metadata": {},
   "source": [
    "# Function Bank"
   ]
  },
  {
   "cell_type": "code",
   "execution_count": null,
   "metadata": {
    "collapsed": true
   },
   "outputs": [],
   "source": [
    "def convert_date_to_datetime(s):\n",
    "    \"\"\" Convert string datetime from the CAD db to datetime object\n",
    "    \n",
    "    :param string\n",
    "    :return datetime object\n",
    "    \n",
    "    \"\"\"\n",
    "    s=str(s)\n",
    "    s= s.replace('-',' ').replace(':',' ').split()\n",
    "    s = map(int,s)\n",
    "    d = datetime.datetime(*s)\n",
    "    return d"
   ]
  },
  {
   "cell_type": "code",
   "execution_count": null,
   "metadata": {
    "collapsed": true
   },
   "outputs": [],
   "source": [
    "def intdate_to_datetime(int_date):\n",
    "    s = str(int(int_date))\n",
    "    year = int(s[0:4])\n",
    "    month = int(s[4:6])\n",
    "    day = int(s[6:8])\n",
    "    hour = int(s[8:10])\n",
    "    minute = int(s[10:12])\n",
    "    second = int(s[12:14])\n",
    "    \n",
    "    return datetime.datetime(year, month, day, hour, minute, second)\n",
    "    "
   ]
  },
  {
   "cell_type": "code",
   "execution_count": null,
   "metadata": {
    "collapsed": true
   },
   "outputs": [],
   "source": [
    "def cast_to_datetime(df, date_col_name):\n",
    "    \"\"\" Find the datetime col in a dataframe and converts it to datetime object \n",
    "    using the function 'convert_date_to_datetime'\n",
    "        \n",
    "    :param dataframe df : has a col with dates  \n",
    "    :param string date_col_name : the name of the date col\n",
    "    :rtype dataframe\n",
    "    :return the updated dataframe\n",
    "    \"\"\"\n",
    "\n",
    "     \n",
    "    df[date_col_name] = df[date_col_name].apply(convert_date_to_datetime)\n",
    "    return df\n",
    "    "
   ]
  },
  {
   "cell_type": "code",
   "execution_count": null,
   "metadata": {
    "collapsed": false
   },
   "outputs": [],
   "source": [
    "def gen_late_dispatch_inc(thresh_time, date_col_name, id_col_name):\n",
    "    \"\"\" Get events where units were dispatched after thresh_time\n",
    "        \n",
    "    :param int thresh_time  \n",
    "    :param string id_col_name name of the column\n",
    "    :param string date_col_name name of the date column\n",
    "    :return dataframe containing incidents with late dispatch\n",
    "    \"\"\"\n",
    "    return pd.read_sql_query(\"select distinct \" + id_col_name + \",count(*) from clean_csvs.dbo_rfirehouseapparatus join clean.events_ using (\" + id_col_name \\\n",
    "                             + \") where \" + date_col_name + \"::timestamp > min_dispatch_time + interval'\"+str(thresh_time)\\\n",
    "                             +\"'second group by 1;;\",conn) \n",
    "    \n"
   ]
  },
  {
   "cell_type": "code",
   "execution_count": null,
   "metadata": {
    "collapsed": false
   },
   "outputs": [],
   "source": [
    "def gen_dict_from_cols(col_name1, col_name2):\n",
    "    \"\"\" Generate an indexed dataframe from two columns \n",
    "    \n",
    "    :param string col_name1, col_name2 : column names to fetch from the db\n",
    "    :rtype dateframe\n",
    "    :return df indexed dataframe \n",
    "    \"\"\"\n",
    "    \n",
    "    df = pd.read_sql_query(\"select {},{} from raw.cad\".format(col_name1, col_name2),conn) \n",
    "    \n",
    "    id_to_type = {}\n",
    "    gb = df.groupby(col_name1)\n",
    "    for name,group in gb:\n",
    "        id_to_type[name] = group[col_name2].iloc[0]\n",
    "    return id_to_type\n",
    "    "
   ]
  },
  {
   "cell_type": "code",
   "execution_count": null,
   "metadata": {
    "collapsed": true
   },
   "outputs": [],
   "source": [
    "def gen_number_late_inc_by_type(excess_units, id_to_type, type_name):\n",
    "    \"\"\" Generate dictionary with key as type of incident and value as \n",
    "        number of times units were dispatched late\n",
    "    \n",
    "    :param list excess_units : incident numbers where late units were dispatched\n",
    "    :param dictionary id_to_type : dictionary of incident numbers to type of incident\n",
    "    :param string type_name : name of incident type column\n",
    "    :rtype dictionary\n",
    "    :return excess_punit dictionary of units sent late by type of incident\n",
    "    \"\"\"\n",
    "    \n",
    "    excess_punit = {}\n",
    "    \n",
    "    for item in excess_units:\n",
    "        if id_to_type[item] in excess_punit.keys():\n",
    "            excess_punit[id_to_type[item]] += 1\n",
    "        else:\n",
    "            excess_punit[id_to_type[item]] = 1\n",
    "                \n",
    "    return excess_punit\n",
    "        "
   ]
  },
  {
   "cell_type": "code",
   "execution_count": null,
   "metadata": {
    "collapsed": true
   },
   "outputs": [],
   "source": [
    "def gen_pct_distr(type_to_id):\n",
    "    \n",
    "    \"\"\" Generate dictionary with key as type of incident and value as \n",
    "        percent of times units were dispatched late\n",
    "    \n",
    "    :param dictionary type_to_id : dictionary of type_of_incident to incident number\n",
    "    :rtype dictionary\n",
    "    :return pct_distr dictionary of percentages of late incidents for each incident type\n",
    "    \"\"\"\n",
    "    \n",
    "    late_pct_inc = {}\n",
    "    full_len = 0\n",
    "    for key in type_to_id.keys():\n",
    "        full_len += type_to_id[key]\n",
    "    for key in type_to_id.keys():\n",
    "        late_pct_inc[key] = float(type_to_id[key])/full_len\n",
    "    return late_pct_inc"
   ]
  },
  {
   "cell_type": "code",
   "execution_count": null,
   "metadata": {
    "collapsed": true
   },
   "outputs": [],
   "source": [
    "def num_strip(s):\n",
    "    \"\"\" Strip a string of numbers\n",
    "    \n",
    "    :param string s : string\n",
    "    :return input string with no numbers\n",
    "    \"\"\"\n",
    "    return s.strip('0123456789')"
   ]
  },
  {
   "cell_type": "code",
   "execution_count": null,
   "metadata": {
    "collapsed": true
   },
   "outputs": [],
   "source": [
    "def gen_nontransports(gb, date_col_name, hospital_time_name, unit_id_name, id_to_type):\n",
    "    nontransports = {}\n",
    "    for id_type in id_to_type.values():\n",
    "        nontransports[id_type] = 0\n",
    "    for name,group in gb:\n",
    "        units = group[unit_id_name].apply(num_strip)\n",
    "        transports = ['MT','M']\n",
    "        both = [i for i in units if i in transports]\n",
    "        if len(both) > 0:\n",
    "            if all(v is None for v in group[hospital_time_name]):\n",
    "                nontransports[id_to_type[name]] += 1\n",
    "    return nontransports\n",
    "        \n",
    "        \n",
    "        "
   ]
  },
  {
   "cell_type": "code",
   "execution_count": null,
   "metadata": {
    "collapsed": true
   },
   "outputs": [],
   "source": [
    "def gen_time_tuple(t):\n",
    "    \n",
    "    \"\"\" Input a datetime object and generate its attributes and store in a list of tuples\n",
    "    \n",
    "    :param datetime object t \n",
    "    :rtype list of tuples\n",
    "    :return list of tuples with first element a double of day of week and hour and second element a triple\n",
    "    with day, month, and year\n",
    "    \"\"\"\n",
    "    \n",
    "    day_of_week = t.weekday()\n",
    "    hour = t.hour\n",
    "    day = t.day\n",
    "    month = t.month\n",
    "    year = t.year\n",
    "    week_of_year = t.isocalendar()[1]\n",
    "    return [day_of_week,hour,day,month,year, (week_of_year, year)]"
   ]
  },
  {
   "cell_type": "code",
   "execution_count": null,
   "metadata": {
    "collapsed": true
   },
   "outputs": [],
   "source": [
    "def requires_transport(val):\n",
    "    \n",
    "    if val == None:\n",
    "        return 0\n",
    "    return 1"
   ]
  },
  {
   "cell_type": "code",
   "execution_count": null,
   "metadata": {
    "collapsed": true
   },
   "outputs": [],
   "source": [
    "def is_Medic(m):\n",
    "    return m[0] == 'M'"
   ]
  },
  {
   "cell_type": "code",
   "execution_count": null,
   "metadata": {
    "collapsed": true
   },
   "outputs": [],
   "source": [
    "def drop_time_nan(df, date_col_name):\n",
    "    df = df.dropna(subset=[date_col_name]) # drop the N/A values\n",
    "    return df"
   ]
  },
  {
   "cell_type": "code",
   "execution_count": null,
   "metadata": {
    "collapsed": true
   },
   "outputs": [],
   "source": [
    "def get_year(t):\n",
    "    return t.year"
   ]
  },
  {
   "cell_type": "code",
   "execution_count": null,
   "metadata": {
    "collapsed": true
   },
   "outputs": [],
   "source": [
    "def dispatch_tag(t):\n",
    "    return (t,'d')\n",
    "def clear_tag(t):\n",
    "    return (t,'c')"
   ]
  },
  {
   "cell_type": "code",
   "execution_count": null,
   "metadata": {
    "collapsed": true
   },
   "outputs": [],
   "source": [
    "def assign_shift_number(t_tup, first_shift):\n",
    "    return (t_tup[0] - first_shift).days + 1"
   ]
  },
  {
   "cell_type": "code",
   "execution_count": null,
   "metadata": {
    "collapsed": true
   },
   "outputs": [],
   "source": [
    "def running_mean(x, N):\n",
    "    return np.convolve(x, np.ones((N,))/N)[(N-1):]"
   ]
  },
  {
   "cell_type": "code",
   "execution_count": null,
   "metadata": {
    "collapsed": true
   },
   "outputs": [],
   "source": [
    "def ymd(t):\n",
    "    return (t.year, t.month, t.day)"
   ]
  },
  {
   "cell_type": "code",
   "execution_count": null,
   "metadata": {
    "collapsed": false
   },
   "outputs": [],
   "source": [
    "def binary_date(d, goal):\n",
    "    return d[0].year == goal.year and d[0].month == goal.month and d[0].day == goal.day"
   ]
  },
  {
   "cell_type": "markdown",
   "metadata": {},
   "source": [
    "# Code"
   ]
  },
  {
   "cell_type": "code",
   "execution_count": null,
   "metadata": {
    "collapsed": false
   },
   "outputs": [],
   "source": [
    "cad_df = pd.read_sql_query(\"SELECT i_eventnumber, iiu_tclear, iiu_tdispatch, pun_unitid, iiu_tenroutehospital FROM clean_csvs.dbo_rfirehouseapparatus\", conn)\n",
    "inc_type_map = pd.read_sql_query(\"SELECT i_eventnumber, i_ktypeinfo FROM clean_csvs.dbo_iincident\",conn)\n",
    "code_to_type = pd.read_sql_query(\"SELECT iti_typeinfo_pk, iti_typeid FROM clean_csvs.udt4_itypeinfo\", conn)\n",
    "#cad_df = pd.read_sql_query(\"SELECT i_eventnumber, iiu_tdispatch, iti_typeid, pun_unitid, iiu_tenroutehospital FROM raw.cad\", conn)"
   ]
  },
  {
   "cell_type": "code",
   "execution_count": null,
   "metadata": {
    "collapsed": false
   },
   "outputs": [],
   "source": [
    "cad_df = pd.merge(cad_df, inc_type_map, on = 'i_eventnumber')"
   ]
  },
  {
   "cell_type": "code",
   "execution_count": null,
   "metadata": {
    "collapsed": true
   },
   "outputs": [],
   "source": [
    "cad_df = cad_df.rename(columns = {'i_ktypeinfo': 'type_code'})"
   ]
  },
  {
   "cell_type": "code",
   "execution_count": null,
   "metadata": {
    "collapsed": false
   },
   "outputs": [],
   "source": [
    "code_to_type = code_to_type.rename(columns = {'iti_typeinfo_pk': 'type_code'})"
   ]
  },
  {
   "cell_type": "code",
   "execution_count": null,
   "metadata": {
    "collapsed": false
   },
   "outputs": [],
   "source": [
    "cad_df = pd.merge(cad_df, code_to_type, on = 'type_code')"
   ]
  },
  {
   "cell_type": "code",
   "execution_count": null,
   "metadata": {
    "collapsed": true
   },
   "outputs": [],
   "source": [
    "cad_df = cad_df.drop('type_code', 1)"
   ]
  },
  {
   "cell_type": "code",
   "execution_count": null,
   "metadata": {
    "collapsed": false
   },
   "outputs": [],
   "source": [
    "#cad_df = cast_to_datetime(cad_df, 'iiu_tdispatch')\n",
    "cad_df = drop_time_nan(cad_df, 'iiu_tdispatch')"
   ]
  },
  {
   "cell_type": "code",
   "execution_count": null,
   "metadata": {
    "collapsed": false
   },
   "outputs": [],
   "source": [
    "cad_df['transport'] = cad_df['iiu_tenroutehospital'].apply(requires_transport)"
   ]
  },
  {
   "cell_type": "code",
   "execution_count": null,
   "metadata": {
    "collapsed": true
   },
   "outputs": [],
   "source": [
    "cad_df['full_unit_id'] = cad_df['pun_unitid']"
   ]
  },
  {
   "cell_type": "code",
   "execution_count": null,
   "metadata": {
    "collapsed": false
   },
   "outputs": [],
   "source": [
    "cad_df['pun_unitid'] = cad_df['pun_unitid'].apply(num_strip)"
   ]
  },
  {
   "cell_type": "code",
   "execution_count": null,
   "metadata": {
    "collapsed": false
   },
   "outputs": [],
   "source": [
    "cad_df['is_Medic'] = cad_df['pun_unitid'].apply(is_Medic)"
   ]
  },
  {
   "cell_type": "code",
   "execution_count": null,
   "metadata": {
    "collapsed": false,
    "scrolled": true
   },
   "outputs": [],
   "source": [
    "excess_units = gen_late_dispatch_inc(60, 'iiu_tdispatch', 'i_eventnumber').set_index('i_eventnumber')"
   ]
  },
  {
   "cell_type": "code",
   "execution_count": null,
   "metadata": {
    "collapsed": false
   },
   "outputs": [],
   "source": [
    "id_to_type = cad_df.groupby(by=['i_eventnumber'])['iti_typeid'].first()"
   ]
  },
  {
   "cell_type": "code",
   "execution_count": null,
   "metadata": {
    "collapsed": true
   },
   "outputs": [],
   "source": [
    "transports = cad_df.groupby(by=['i_eventnumber'])['transport'].sum()"
   ]
  },
  {
   "cell_type": "code",
   "execution_count": null,
   "metadata": {
    "collapsed": false
   },
   "outputs": [],
   "source": [
    "medic_sent = cad_df.groupby(by=['i_eventnumber'])['is_Medic'].sum()"
   ]
  },
  {
   "cell_type": "code",
   "execution_count": null,
   "metadata": {
    "collapsed": false
   },
   "outputs": [],
   "source": [
    "event_feat_df = pd.concat([id_to_type, transports, medic_sent], axis=1)"
   ]
  },
  {
   "cell_type": "code",
   "execution_count": null,
   "metadata": {
    "collapsed": false
   },
   "outputs": [],
   "source": [
    "event_feat_df = event_feat_df.join(excess_units)"
   ]
  },
  {
   "cell_type": "code",
   "execution_count": null,
   "metadata": {
    "collapsed": false
   },
   "outputs": [],
   "source": [
    "event_feat_df = event_feat_df.fillna(0)"
   ]
  },
  {
   "cell_type": "code",
   "execution_count": null,
   "metadata": {
    "collapsed": true
   },
   "outputs": [],
   "source": [
    "gb_type = event_feat_df.groupby('iti_typeid')"
   ]
  },
  {
   "cell_type": "code",
   "execution_count": null,
   "metadata": {
    "collapsed": false
   },
   "outputs": [],
   "source": [
    "excess_punit = {}\n",
    "type_to_id = {}\n",
    "non_transports = {}\n",
    "for name,group in gb_type:\n",
    "    excess_punit[name] = np.count_nonzero(group['count'])\n",
    "    type_to_id[name] = len(group)\n",
    "    true_false = (group['transport'] < group['is_Medic']).value_counts()\n",
    "    if True in true_false:\n",
    "        non_transports[name] = true_false.ix[True]\n",
    "    else:\n",
    "        non_transports[name] = 0"
   ]
  },
  {
   "cell_type": "code",
   "execution_count": null,
   "metadata": {
    "collapsed": false
   },
   "outputs": [],
   "source": [
    "pct_undersend = {}\n",
    "pct_oversend = {}"
   ]
  },
  {
   "cell_type": "code",
   "execution_count": null,
   "metadata": {
    "collapsed": false
   },
   "outputs": [],
   "source": [
    "for key in [i for i in type_to_id.keys() if i in excess_punit.keys()]:\n",
    "    pct_undersend[key] = float(excess_punit[key])/type_to_id[key]\n",
    "for key in [i for i in type_to_id.keys() if i in non_transports.keys()]:\n",
    "    pct_oversend[key] = float(non_transports[key])/type_to_id[key]\n",
    "    "
   ]
  },
  {
   "cell_type": "code",
   "execution_count": null,
   "metadata": {
    "collapsed": false,
    "scrolled": false
   },
   "outputs": [],
   "source": [
    "sorted_dict = sorted(pct_undersend.items(), key=operator.itemgetter(1))\n"
   ]
  },
  {
   "cell_type": "code",
   "execution_count": null,
   "metadata": {
    "collapsed": false
   },
   "outputs": [],
   "source": [
    "pct_distr = gen_pct_distr(type_to_id)"
   ]
  },
  {
   "cell_type": "code",
   "execution_count": null,
   "metadata": {
    "collapsed": false
   },
   "outputs": [],
   "source": [
    "sorted_freq_list = [i[0] for i in sorted(pct_distr.items(), key=operator.itemgetter(1))]"
   ]
  },
  {
   "cell_type": "code",
   "execution_count": null,
   "metadata": {
    "collapsed": false,
    "scrolled": false
   },
   "outputs": [],
   "source": [
    "sorted_freq_list.reverse()"
   ]
  },
  {
   "cell_type": "code",
   "execution_count": null,
   "metadata": {
    "collapsed": false
   },
   "outputs": [],
   "source": [
    "top_ten = sorted_freq_list[0:10]"
   ]
  },
  {
   "cell_type": "code",
   "execution_count": null,
   "metadata": {
    "collapsed": false
   },
   "outputs": [],
   "source": [
    "common_pct_us = {}\n",
    "common_pct_os = {}\n",
    "for i_type in top_ten:\n",
    "    common_pct_us[i_type] = pct_undersend[i_type] \n",
    "    common_pct_os[i_type] = pct_oversend[i_type]"
   ]
  },
  {
   "cell_type": "code",
   "execution_count": null,
   "metadata": {
    "collapsed": false
   },
   "outputs": [],
   "source": [
    "plt.bar(range(len(common_pct_us)), common_pct_us.values(),  align='center' )\n",
    "plt.xticks(range(len(common_pct_us)), common_pct_us.keys(), rotation = 'vertical')\n",
    "plt.xlim(-1,10)\n",
    "plt.title(\"Undersent Resources Fractions for Top Ten Incident Types\")"
   ]
  },
  {
   "cell_type": "code",
   "execution_count": null,
   "metadata": {
    "collapsed": false
   },
   "outputs": [],
   "source": [
    "plt.bar(range(len(common_pct_os)), common_pct_os.values(),  align='center' )\n",
    "plt.xticks(range(len(common_pct_os)), common_pct_os.keys(), rotation = 'vertical')\n",
    "plt.xlim(-1,10)\n",
    "plt.title(\"Undersent Resources Fractions for Top Ten Incident Types\")"
   ]
  },
  {
   "cell_type": "code",
   "execution_count": null,
   "metadata": {
    "collapsed": false
   },
   "outputs": [],
   "source": [
    "\n",
    "font0 = FontProperties()\n",
    "font = font0.copy()\n",
    "\n",
    "ax = plt.subplot(111)\n",
    "mpl.rcParams['font.family'] = 'monospace'\n",
    "font.set_family(font)\n",
    "ax.bar(np.arange(-.5,19.5,2), [i*100 for i in common_pct_us.values()],width=0.5,color='b',align='center', label = 'Percent Undersent')\n",
    "ax.bar(np.arange(0,20,2), [i*100 for i in common_pct_os.values()],width=0.5,color='r',align='center', label = 'Percent Oversent')\n",
    "ax.set_xticklabels(common_pct_os.keys(), rotation = 'vertical')\n",
    "ax.set_xticks(np.arange(-.25,19.75,2))\n",
    "ax.set_xlim(-1,19)\n",
    "ax.set_xlabel('Incident Type')\n",
    "ax.set_ylabel('Percent of Over/Under Sending (%)')\n",
    "ax.set_title('Percent of Over and Under Sending by Incident Type')\n",
    "\n",
    "blue_line = mlines.Line2D([], [], color='blue', marker='*',\n",
    "                          markersize=15, label='Blue stars')\n",
    "legend = plt.legend(loc='upper right', shadow=True, fontsize='x-large')\n",
    "plt.gcf().subplots_adjust(bottom=0.25)\n",
    "fig = mpl.pyplot.gcf()\n",
    "mpl.rcParams.update({'font.size': 16})\n",
    "fig.set_size_inches(12,7)\n",
    "plt.savefig('Under_Over_Sending.jpg')"
   ]
  },
  {
   "cell_type": "markdown",
   "metadata": {},
   "source": [
    "# HeatMap"
   ]
  },
  {
   "cell_type": "code",
   "execution_count": null,
   "metadata": {
    "collapsed": false
   },
   "outputs": [],
   "source": [
    "heat_df = pd.DataFrame()\n",
    "\n",
    "medic_df = cad_df[cad_df['pun_unitid'] == 'M']\n",
    "\n",
    "time_data = medic_df['iiu_tdispatch'].apply(gen_time_tuple)\n",
    "\n",
    "heat_df['ID'] = medic_df['i_eventnumber']\n",
    "heat_df['day_of_week'] = [i[0] for i in time_data]\n",
    "heat_df['hour'] = [i[1] for i in time_data]\n",
    "heat_df['day'] = [i[2] for i in time_data]\n",
    "heat_df['month'] = [i[3] for i in time_data]\n",
    "heat_df['year'] = [i[4] for i in time_data]\n",
    "heat_df['week_year_id'] = [i[5] for i in time_data]\n",
    "\n",
    "day_hour_gb = heat_df.groupby(['day_of_week', 'hour'])\n",
    "month_day_gb = heat_df.groupby(['month', 'day'])"
   ]
  },
  {
   "cell_type": "code",
   "execution_count": null,
   "metadata": {
    "collapsed": false
   },
   "outputs": [],
   "source": [
    "hm_dayhour = np.zeros((7,24))\n",
    "\n",
    "for name,group in day_hour_gb:\n",
    "    sub_gb = group.groupby('week_year_id')\n",
    "    lens = []\n",
    "    for name2,group2 in sub_gb:\n",
    "        lens.append(len(group2))\n",
    "    med = np.mean(lens)\n",
    "    hm_dayhour[name[0]][name[1]] = med\n",
    "    \n"
   ]
  },
  {
   "cell_type": "code",
   "execution_count": null,
   "metadata": {
    "collapsed": false
   },
   "outputs": [],
   "source": [
    "fig, ax = plt.subplots()\n",
    "\n",
    "mpl.rcParams['font.family'] = 'monospace'\n",
    "mpl.rcdefaults()\n",
    "cax = ax.imshow(hm_dayhour, interpolation='nearest', cmap=cm.coolwarm)\n",
    "#ax.set_xlabel('Hour')\n",
    "#ax.set_ylabel('Day')\n",
    "ax.set_xlim(-0.5,23.5)\n",
    "times = ['12AM', '1AM', '2AM', '3AM', '4AM', '5AM', '6AM', '7AM', '8AM', '9AM', '10AM', '11AM', \\\n",
    "         '12PM', '1PM', '2PM', '3PM', '4PM', '5PM', '6PM', '7PM', '8PM', '9PM', '10PM', '11PM']\n",
    "ax.set_xticklabels(times, fontsize = 20, rotation = 90)\n",
    "ax.set_yticklabels([\"Monday\",\"Tuesday\",\"Wednesday\",'Thursday','Friday','Saturday','Sunday'], fontsize = 20)\n",
    "ax.set_xticks(np.arange(-0.5,23.5,1))\n",
    "ax.set_yticks(np.arange(0,7,1))\n",
    "ax.grid(b=False)\n",
    "\n",
    "\n",
    "\n",
    "#ax.set_title(\"Median Medic Units Sent by Hour of Day\")\n",
    "\n",
    "# Add colorbar, make sure to specify tick locations to match desired ticklabels\n",
    "cbar = fig.colorbar(cax, ticks=[-1, 0, 1],orientation='horizontal')\n",
    "fig.set_size_inches(18.5, 10.5)\n",
    "cbar.set_ticks([np.min(hm_dayhour), np.mean(hm_dayhour), np.max(hm_dayhour)])\n",
    "\n",
    "cbar.ax.tick_params(labelsize=20) \n",
    "\n",
    "fig.savefig('Hour_Day_HMAP.pdf')"
   ]
  },
  {
   "cell_type": "markdown",
   "metadata": {},
   "source": [
    "# Day of Year Heatmap"
   ]
  },
  {
   "cell_type": "code",
   "execution_count": null,
   "metadata": {
    "collapsed": false
   },
   "outputs": [],
   "source": [
    "hm_monthday = np.zeros((12,31))\n",
    "\n",
    "for name,group in month_day_gb:\n",
    "    sub_gb = group.groupby('year')\n",
    "    lens = []\n",
    "    for name2,group2 in sub_gb:\n",
    "        lens.append(len(group2))\n",
    "    med = np.mean(lens)\n",
    "    hm_monthday[name[0]-1][name[1]-1] = med\n",
    "hm_monthday[hm_monthday == 0] = np.nan"
   ]
  },
  {
   "cell_type": "code",
   "execution_count": null,
   "metadata": {
    "collapsed": false
   },
   "outputs": [],
   "source": [
    "fig, ax = plt.subplots()\n",
    "mpl.rcdefaults()\n",
    "cax = ax.imshow(hm_monthday, interpolation='nearest', cmap=cm.coolwarm)\n",
    "#ax.set_xlabel('Day')\n",
    "#ax.set_ylabel('Month')\n",
    "ax.set_xlim(-0.5,30.5)\n",
    "ax.set_xticklabels(range(1,32), fontsize = 20)\n",
    "ax.set_yticklabels(['Jan','Feb','Mar','Apr','May','Jun','Jul','Aug','Sep','Oct','Nov','Dec'], fontsize = 20)\n",
    "ax.set_xticks(np.arange(0,31,1))\n",
    "ax.set_yticks(np.arange(0,12,1))\n",
    "ax.grid(b=False)\n",
    "\n",
    "#ax.set_title(\"Median Medic Units Sent by Day of Month\")\n",
    "\n",
    "\n",
    "\n",
    "\n",
    "# Add colorbar, make sure to specify tick locations to match desired ticklabels\n",
    "cbar = fig.colorbar(cax, ticks=[-1, 0, 1], orientation='horizontal')\n",
    "cbar.set_ticks([np.nanmin(hm_monthday), np.nanmean(hm_monthday), np.nanmax(hm_monthday)])\n",
    "cbar.ax.tick_params(labelsize=20) \n",
    "fig.set_size_inches(18.5, 10.5)\n",
    "fig.savefig('Day_Month_HMAP.pdf')"
   ]
  },
  {
   "cell_type": "markdown",
   "metadata": {},
   "source": [
    "# Which Medic is Most in Demand?"
   ]
  },
  {
   "cell_type": "code",
   "execution_count": null,
   "metadata": {
    "collapsed": false,
    "scrolled": true
   },
   "outputs": [],
   "source": [
    "p_unit = cad_df[cad_df['full_unit_id'].apply(num_strip) == 'M']['full_unit_id']"
   ]
  },
  {
   "cell_type": "code",
   "execution_count": null,
   "metadata": {
    "collapsed": false
   },
   "outputs": [],
   "source": [
    "medic_dict= {}\n",
    "for i in p_unit:\n",
    "    if i in medic_dict.keys():\n",
    "        medic_dict[i] += 1\n",
    "    else:\n",
    "        medic_dict[i] = 1"
   ]
  },
  {
   "cell_type": "code",
   "execution_count": null,
   "metadata": {
    "collapsed": false
   },
   "outputs": [],
   "source": [
    "medic_tups = [(v, k) for v,k in medic_dict.iteritems()]\n"
   ]
  },
  {
   "cell_type": "code",
   "execution_count": null,
   "metadata": {
    "collapsed": false
   },
   "outputs": [],
   "source": [
    "medic_tups = sorted(medic_tups, key=lambda x: x[1])"
   ]
  },
  {
   "cell_type": "code",
   "execution_count": null,
   "metadata": {
    "collapsed": false
   },
   "outputs": [],
   "source": [
    "medic_tups.reverse()"
   ]
  },
  {
   "cell_type": "code",
   "execution_count": null,
   "metadata": {
    "collapsed": false
   },
   "outputs": [],
   "source": [
    "m_thresh = 0.1*max([i[1] for i in medic_tups])"
   ]
  },
  {
   "cell_type": "code",
   "execution_count": null,
   "metadata": {
    "collapsed": false
   },
   "outputs": [],
   "source": [
    "medic_tups = [i for i in medic_tups if i[1] > m_thresh]"
   ]
  },
  {
   "cell_type": "code",
   "execution_count": null,
   "metadata": {
    "collapsed": false
   },
   "outputs": [],
   "source": [
    "tot = sum([i[1] for i in medic_tups])"
   ]
  },
  {
   "cell_type": "code",
   "execution_count": null,
   "metadata": {
    "collapsed": false
   },
   "outputs": [],
   "source": [
    "pct_tups = []\n",
    "for i in range(len(medic_tups)):\n",
    "    pct_tups.append((medic_tups[i][0], medic_tups[i][1] / float(tot)*100))"
   ]
  },
  {
   "cell_type": "code",
   "execution_count": null,
   "metadata": {
    "collapsed": false
   },
   "outputs": [],
   "source": [
    "fair_level = 1.0/12*100"
   ]
  },
  {
   "cell_type": "code",
   "execution_count": null,
   "metadata": {
    "collapsed": false
   },
   "outputs": [],
   "source": [
    "plt.bar(range(len(pct_tups)), [i[1] for i in pct_tups],  align='center',color = 'red')\n",
    "plt.xticks(range(len(pct_tups)), [i[0] for i in pct_tups], rotation = 'vertical')\n",
    "plt.xlim(-0.5,11.5)\n",
    "plt.title(\"Distribution of Medic Demand\")\n",
    "plt.xlabel('Medic')\n",
    "plt.ylabel('Percent of Workload (%)')\n",
    "line1 = plt.axhline(y=fair_level, label = \"Fair Workload Level\")\n",
    "\n",
    "legend = plt.legend(loc='upper right', shadow=True, fontsize='large')\n",
    "\n",
    "plt.gcf().subplots_adjust(bottom=0.25)\n",
    "fig = mpl.pyplot.gcf()\n",
    "\n",
    "plt.savefig('MedicDemand.jpg')"
   ]
  },
  {
   "cell_type": "markdown",
   "metadata": {},
   "source": [
    "# Idle time by medic unit by year"
   ]
  },
  {
   "cell_type": "code",
   "execution_count": null,
   "metadata": {
    "collapsed": false
   },
   "outputs": [],
   "source": [
    "year_of_interest = 2015"
   ]
  },
  {
   "cell_type": "code",
   "execution_count": null,
   "metadata": {
    "collapsed": false
   },
   "outputs": [],
   "source": [
    "year_df = pd.read_sql_query(\"SELECT i_eventnumber,iiu_tdispatch, pun_unitid, iiu_tclear,iiu_tenroutehospital FROM clean_csvs.dbo_rfirehouseapparatus WHERE DATE_PART('year', iiu_tdispatch) = \" + str(year_of_interest) + \";\", conn)"
   ]
  },
  {
   "cell_type": "code",
   "execution_count": null,
   "metadata": {
    "collapsed": true
   },
   "outputs": [],
   "source": [
    "year_df['isTransport'] = year_df['iiu_tenroutehospital'].apply(requires_transport)\n",
    "year_df = year_df.drop('iiu_tenroutehospital', 1)"
   ]
  },
  {
   "cell_type": "code",
   "execution_count": null,
   "metadata": {
    "collapsed": false
   },
   "outputs": [],
   "source": [
    "year_df['unit_type'] = year_df['pun_unitid'].apply(num_strip)"
   ]
  },
  {
   "cell_type": "code",
   "execution_count": null,
   "metadata": {
    "collapsed": true
   },
   "outputs": [],
   "source": [
    "year_medic_df = year_df[year_df['unit_type'] == 'M']"
   ]
  },
  {
   "cell_type": "code",
   "execution_count": null,
   "metadata": {
    "collapsed": false
   },
   "outputs": [],
   "source": [
    "year_medic_df = year_medic_df.drop('unit_type',1)"
   ]
  },
  {
   "cell_type": "code",
   "execution_count": null,
   "metadata": {
    "collapsed": false
   },
   "outputs": [],
   "source": [
    "#year_medic_df['iiu_tdispatch_id'] = year_medic_df['iiu_tdispatch'].apply(dispatch_tag)\n",
    "#year_medic_df['iiu_tclear_id'] = year_medic_df['iiu_tclear'].apply(clear_tag)\n",
    "\n",
    "\n",
    "year_medic_df['iiu_tdispatch_id'] = zip(year_medic_df['iiu_tdispatch'], ['d']*len(year_medic_df), year_medic_df['pun_unitid'])\n",
    "year_medic_df['iiu_tclear_id'] = zip(year_medic_df['iiu_tclear'], ['c']*len(year_medic_df), year_medic_df['pun_unitid'], year_medic_df['isTransport'])"
   ]
  },
  {
   "cell_type": "code",
   "execution_count": null,
   "metadata": {
    "collapsed": false
   },
   "outputs": [],
   "source": [
    "year_medic_df = year_medic_df.sort('iiu_tdispatch')\n",
    "year_medic_df = year_medic_df.drop('iiu_tdispatch',1)\n",
    "year_medic_df = year_medic_df.drop('iiu_tclear',1)"
   ]
  },
  {
   "cell_type": "code",
   "execution_count": null,
   "metadata": {
    "collapsed": false
   },
   "outputs": [],
   "source": [
    "first_shift = datetime.datetime(year_of_interest, 1, 1, 7, 0, 0 )"
   ]
  },
  {
   "cell_type": "code",
   "execution_count": null,
   "metadata": {
    "collapsed": false
   },
   "outputs": [],
   "source": [
    "year_medic_df['shift_num'] = year_medic_df['iiu_tdispatch_id'].apply(assign_shift_number, args = (first_shift,))"
   ]
  },
  {
   "cell_type": "code",
   "execution_count": null,
   "metadata": {
    "collapsed": false
   },
   "outputs": [],
   "source": [
    "year_medic_df = year_medic_df[year_medic_df['shift_num'] > 0]"
   ]
  },
  {
   "cell_type": "code",
   "execution_count": null,
   "metadata": {
    "collapsed": false
   },
   "outputs": [],
   "source": [
    "gb_medic = year_medic_df.groupby('pun_unitid')"
   ]
  },
  {
   "cell_type": "code",
   "execution_count": null,
   "metadata": {
    "collapsed": true
   },
   "outputs": [],
   "source": [
    "idle_times = {}"
   ]
  },
  {
   "cell_type": "code",
   "execution_count": null,
   "metadata": {
    "collapsed": false
   },
   "outputs": [],
   "source": [
    "for name,group in gb_medic:\n",
    "    idle_times[name] = []\n",
    "   \n",
    "    sub_gb = group.groupby('shift_num')\n",
    "    for name2,group2 in sub_gb:\n",
    "        idle_total = 0\n",
    "        time_list = sorted(group2['iiu_tdispatch_id'].append(group2['iiu_tclear_id']), key=lambda x: x[0])\n",
    "        init = time_list[0][0]\n",
    "        init = datetime.datetime(init.year, init.month, init.day, 7, 0, 0)\n",
    "        time_list = [(init, 'c')] + time_list\n",
    "        \n",
    "        for entry in time_list:\n",
    "            if entry[1] == 'c':\n",
    "                clear_time = entry[0]\n",
    "            else:\n",
    "                idle_total += (entry[0] - clear_time).seconds/3600.0\n",
    "    \n",
    "        idle_times[name].append(idle_total)"
   ]
  },
  {
   "cell_type": "code",
   "execution_count": null,
   "metadata": {
    "collapsed": true
   },
   "outputs": [],
   "source": [
    "median_dict = {}\n",
    "for key in idle_times.keys():\n",
    "    median_dict[key] = np.median(idle_times[key])\n",
    "median_dict = sorted(median_dict.items(), key=operator.itemgetter(1))"
   ]
  },
  {
   "cell_type": "code",
   "execution_count": null,
   "metadata": {
    "collapsed": false
   },
   "outputs": [],
   "source": [
    "median_dict"
   ]
  },
  {
   "cell_type": "code",
   "execution_count": null,
   "metadata": {
    "collapsed": false
   },
   "outputs": [],
   "source": [
    "median_dict.reverse()"
   ]
  },
  {
   "cell_type": "code",
   "execution_count": null,
   "metadata": {
    "collapsed": false
   },
   "outputs": [],
   "source": [
    "plt.bar(range(12), [i[1] for i in median_dict][-13:-1],  align='center',color = 'green')\n",
    "plt.xticks(range(12), [i[0] for i in median_dict][-13:-1] , rotation = 'vertical')\n",
    "plt.xlim(-0.5,11.5)\n",
    "plt.title(\"Median Idle Hours per Shift by Ambulance\")\n",
    "plt.xlabel(\"Ambulance\")\n",
    "plt.ylabel('Idle Hours')\n",
    "\n",
    "legend = plt.legend(loc='upper right', shadow=True, fontsize='large')\n",
    "\n",
    "plt.gcf().subplots_adjust(bottom=0.25)\n",
    "fig = mpl.pyplot.gcf()\n",
    "mpl.rcdefaults()\n",
    "\n",
    "plt.savefig('MedicDemand.pdf')"
   ]
  },
  {
   "cell_type": "code",
   "execution_count": null,
   "metadata": {
    "collapsed": false
   },
   "outputs": [],
   "source": [
    "rolling_avg_period = 7\n",
    "rm_idle_times_m46 = running_mean(idle_times['M46'], rolling_avg_period)[:-7]\n",
    "rm_idle_times_m03 = running_mean(idle_times['M03'], rolling_avg_period)[:-7]"
   ]
  },
  {
   "cell_type": "code",
   "execution_count": null,
   "metadata": {
    "collapsed": false
   },
   "outputs": [],
   "source": [
    "plt.plot(rm_idle_times_m46, color = 'red', label = 'Ambulance 46')\n",
    "plt.plot(rm_idle_times_m03, color = 'blue', label = 'Ambulance 03')\n",
    "\n",
    "plt.title('7 Day Rolling Mean of Idle Hours by Ambulance')\n",
    "plt.xlabel('Day of Year')\n",
    "plt.ylabel('Idle Hours')\n",
    "\n",
    "mpl.rcdefaults()\n",
    "\n",
    "legend = plt.legend(loc='upper right', shadow=True, fontsize='large')\n",
    "\n",
    "fig = mpl.pyplot.gcf()\n",
    "#mpl.rcParams.update({'font.size': 16})\n",
    "fig.set_size_inches(12,7)\n",
    "\n",
    "plt.savefig('RollingMean.pdf')"
   ]
  },
  {
   "cell_type": "code",
   "execution_count": null,
   "metadata": {
    "collapsed": false
   },
   "outputs": [],
   "source": [
    "fig = plt.figure(figsize=(12,8))\n",
    "ax1 = fig.add_subplot(211)\n",
    "fig = sm.graphics.tsa.plot_acf(rm_idle_times_46.s, lags=40, ax=ax1)\n",
    "ax2 = fig.add_subplot(212)\n",
    "fig = sm.graphics.tsa.plot_pacf(rm_idle_times_46, lags=40, ax=ax2)"
   ]
  },
  {
   "cell_type": "code",
   "execution_count": null,
   "metadata": {
    "collapsed": false
   },
   "outputs": [],
   "source": [
    "rm_idle_times_m46.values.sqeeze()"
   ]
  },
  {
   "cell_type": "code",
   "execution_count": null,
   "metadata": {
    "collapsed": true
   },
   "outputs": [],
   "source": [
    "dta = sm.datasets.sunspots.load_pandas().data"
   ]
  },
  {
   "cell_type": "code",
   "execution_count": null,
   "metadata": {
    "collapsed": false
   },
   "outputs": [],
   "source": [
    "dta.values.sqeeze"
   ]
  },
  {
   "cell_type": "code",
   "execution_count": null,
   "metadata": {
    "collapsed": false
   },
   "outputs": [],
   "source": [
    "pacf = stattools.pacf(rm_idle_times_m46)\n",
    "plt.bar(range(len(pacf)),pacf,  align='center' )\n",
    "plt.xlim(-0.5,len(pacf)-0.5)"
   ]
  },
  {
   "cell_type": "markdown",
   "metadata": {},
   "source": [
    "# Busy Medic Analysis"
   ]
  },
  {
   "cell_type": "code",
   "execution_count": null,
   "metadata": {
    "collapsed": false
   },
   "outputs": [],
   "source": [
    "medic_dict = {}\n",
    "for unit in year_medic_df['pun_unitid']:\n",
    "    if len(unit) < 4:\n",
    "        medic_dict[unit] = 0"
   ]
  },
  {
   "cell_type": "code",
   "execution_count": null,
   "metadata": {
    "collapsed": false
   },
   "outputs": [],
   "source": [
    "date_of_interest = datetime.datetime(2015,10,12,7,0,0)\n",
    "shift_of_interest = date_of_interest.timetuple().tm_yday\n",
    "day_medic_df = year_medic_df[year_medic_df['shift_num'] == shift_of_interest]"
   ]
  },
  {
   "cell_type": "code",
   "execution_count": null,
   "metadata": {
    "collapsed": false
   },
   "outputs": [],
   "source": [
    "s = sorted(day_medic_df['iiu_tdispatch_id'].append(day_medic_df['iiu_tclear_id']), key = lambda x:x[0])"
   ]
  },
  {
   "cell_type": "code",
   "execution_count": null,
   "metadata": {
    "collapsed": true
   },
   "outputs": [],
   "source": [
    "all_disp = []\n",
    "al_one_clear = []\n",
    "load_tuples = []"
   ]
  },
  {
   "cell_type": "code",
   "execution_count": null,
   "metadata": {
    "collapsed": false
   },
   "outputs": [],
   "source": [
    "for item in s:\n",
    "    medic_dict[item[2]] = int(item[1] == 'd')\n",
    "    if sum(medic_dict.values()) == len(medic_dict):\n",
    "        all_disp.append(item[0])\n",
    "    if len(all_disp) > len(al_one_clear):\n",
    "        if sum(medic_dict.values()) < len(medic_dict):\n",
    "            al_one_clear.append(item[0])\n",
    "    load_tuples.append(((item[0]-date_of_interest).days*86400 + (item[0]-date_of_interest).seconds, sum(medic_dict.values())))"
   ]
  },
  {
   "cell_type": "code",
   "execution_count": null,
   "metadata": {
    "collapsed": false
   },
   "outputs": [],
   "source": [
    "diff_all = [(i-j).seconds for i,j in zip(al_one_clear, all_disp)]\n",
    "starts_all = [(i-date_of_interest).seconds for i in all_disp]"
   ]
  },
  {
   "cell_type": "code",
   "execution_count": null,
   "metadata": {
    "collapsed": true
   },
   "outputs": [],
   "source": [
    "gb_medic = day_medic_df.groupby('pun_unitid')"
   ]
  },
  {
   "cell_type": "code",
   "execution_count": null,
   "metadata": {
    "collapsed": false
   },
   "outputs": [],
   "source": [
    "i = 0\n",
    "\n",
    "current_palette = sns.color_palette(\"hls\", len(medic_dict))\n",
    "sns.set(rc={\"figure.figsize\": (6, 6)})\n",
    "np.random.seed(sum(map(ord, \"palettes\")))\n",
    "\n",
    "dict_range = {}\n",
    "col_range = {}\n",
    "for name,group in gb_medic:\n",
    "    dict_range[name] = (i,1)\n",
    "    col_range[name] = current_palette[i]\n",
    "    i += 1"
   ]
  },
  {
   "cell_type": "code",
   "execution_count": null,
   "metadata": {
    "collapsed": false,
    "scrolled": false
   },
   "outputs": [],
   "source": [
    "special_medics = ['M23', 'M29']\n",
    "\n",
    "ax = plt.subplot(111)\n",
    "\n",
    "mpl.rcdefaults()\n",
    "\n",
    "mpl.rcParams['font.family'] = 'monospace'\n",
    "\n",
    "times = [\"7AM\", '9AM', '11AM', '1PM', '3PM', '5PM', '7PM', '9PM', '11PM', '1AM', '3AM', '5AM', '7AM']\n",
    "\n",
    "#ax.set_title(\"Medic Schedule for \" + str(date_of_interest.month) + '/' + str(date_of_interest.day) + '/' + str(date_of_interest.year), fontsize = 20)\n",
    "ax.set_ylim(0,len(medic_dict))\n",
    "ax.set_xlim(0, 86400)\n",
    "\n",
    "ax.set_yticks(np.arange(0.5,12.5,1))\n",
    "\n",
    "ax.set_xticklabels(times, rotation = 90,  fontsize = 14)\n",
    "ax.set_xticks(np.arange(0,86400, 7200))\n",
    "\n",
    "#ax.set_xlabel('Time', fontsize = 16)\n",
    "#ax.set_ylabel('Medic Unit', fontsize = 16)\n",
    "\n",
    "medic_units = []\n",
    "\n",
    "for name,group in gb_medic:\n",
    "    \n",
    "    colors = []\n",
    "    \n",
    "    medic_units.append(name.replace('M','A'))\n",
    "    disp = []\n",
    "    clear = []\n",
    "    s = sorted(group['iiu_tdispatch_id'].append(group['iiu_tclear_id']), key = lambda x: x[0])\n",
    "    \n",
    "    for item in s:\n",
    "        if item[1] == 'd':\n",
    "            disp.append(item[0])\n",
    "        else:\n",
    "            clear.append(item[0])\n",
    "            if item[3] == 1:\n",
    "                colors.append('grey')\n",
    "            else:\n",
    "                colors.append('grey')\n",
    "      \n",
    "    diff = [(i - j).seconds for i,j in zip(clear,disp)]\n",
    "    starts = [(i-date_of_interest).seconds for i in disp]\n",
    "    \n",
    "    zipped_all = zip(starts_all, diff_all)\n",
    "    \n",
    "    zipped = zip(starts, diff)\n",
    "    \n",
    "    ax.broken_barh(zipped, dict_range[name], facecolors=colors)\n",
    "\n",
    "    \n",
    "    #if name == 'M29':\n",
    "     #   ax.broken_barh(zipped, dict_range[name], facecolors='blue')\n",
    "    #elif name == 'M23':\n",
    "    #    ax.broken_barh(zipped, dict_range[name], facecolors='red')\n",
    "    #else:\n",
    "     #   ax.broken_barh(zipped, dict_range[name], facecolors='grey')\n",
    "    \n",
    "    ax.broken_barh(zipped_all, dict_range[name], facecolors='black')\n",
    "    \n",
    "\n",
    "\n",
    "    \n",
    "ax.set_yticklabels(medic_units, fontsize = 14)\n",
    "       \n",
    "\n",
    "fig = mpl.pyplot.gcf()\n",
    "\n",
    "fig.set_size_inches(18,7)  \n",
    "\n",
    "#plt.rc('font', family='sans-serif')\n",
    "\n",
    "plt.savefig('MedicSched_.pdf')\n",
    "    \n",
    "    "
   ]
  },
  {
   "cell_type": "code",
   "execution_count": null,
   "metadata": {
    "collapsed": false
   },
   "outputs": [],
   "source": [
    "ax = plt.subplot(111)\n",
    "times = ['7AM', '9AM', '11AM', '1PM', '3PM', '5PM', '7PM', '9PM', '11PM', '1AM', '3AM', '5AM', '7AM']\n",
    "\n",
    "mpl.rcdefaults()\n",
    "\n",
    "#.set_title(\"Busy Medics on \" + str(date_of_interest.month) + '/' + str(date_of_interest.day) + '/' + str(date_of_interest.year), fontsize = 20)\n",
    "ax.set_ylim(0,12)\n",
    "ax.set_xlim(0, 86400)\n",
    "\n",
    "ax.set_xticklabels(times, rotation = 90,  fontsize = 18)\n",
    "ax.set_xticks(np.arange(0,86400, 7200))\n",
    "\n",
    "#ax.set_xlabel('Time', fontsize = 16)\n",
    "ax.set_ylabel('Number Ambulances Busy', fontsize = 18)\n",
    "\n",
    "fig = mpl.pyplot.gcf()\n",
    "\n",
    "fig.set_size_inches(18,7)\n",
    "\n",
    "mpl.rcParams['font.family'] = 'monospace'\n",
    "    \n",
    "ax.set_yticklabels(np.arange(0,14,2), fontsize = 18)\n",
    "\n",
    "colors = []\n",
    "\n",
    "for item in load_tuples:\n",
    "    if item[1] <= 4:\n",
    "        colors.append('green')\n",
    "    elif item[1] <= 8:\n",
    "        colors.append('yellow')\n",
    "    else:\n",
    "        colors.append('red')\n",
    "\n",
    "col_zip = zip(load_tuples, colors)\n",
    "\n",
    "s = sorted(col_zip, key = lambda x: x[1])\n",
    "\n",
    "greens = []\n",
    "yellows = []\n",
    "reds = []\n",
    "for item in s:\n",
    "    if item[1] == 'red':\n",
    "        reds.append(item)\n",
    "    elif item[1] == 'yellow':\n",
    "        yellows.append(item)\n",
    "    else:\n",
    "        greens.append(item)\n",
    "        \n",
    "#ax.step([i[0][0] for i in greens], [i[0][1] for i in greens], color = 'green')\n",
    "#ax.step([i[0][0] for i in yellows], [i[0][1] for i in yellows], color = 'yellow')\n",
    "#ax.step([i[0][0] for i in reds], [i[0][1] for i in reds], color = 'red')\n",
    "\n",
    "\n",
    "ax.step([i[0] for i in load_tuples], [i[1] for i in load_tuples], color = 'blue')\n",
    "\n",
    "\n",
    "\n",
    "plt.savefig('busymedics.pdf')"
   ]
  },
  {
   "cell_type": "code",
   "execution_count": null,
   "metadata": {
    "collapsed": false
   },
   "outputs": [],
   "source": [
    "groups[30]"
   ]
  },
  {
   "cell_type": "code",
   "execution_count": null,
   "metadata": {
    "collapsed": false
   },
   "outputs": [],
   "source": [
    "hi_time = 0\n",
    "lo_time = 0\n",
    "med_time = 0\n",
    "\n",
    "num_medics = 0\n",
    "curr = 0\n",
    "for item in load_tuples:\n",
    "    num_medics = item[1]\n",
    "    \n",
    "    if num_medics <= 4:\n",
    "        lo_time +=  item[0] - curr\n",
    "    elif num_medics <= 8:\n",
    "        med_time +=  item[0] - curr\n",
    "    else:\n",
    "        hi_time +=  item[0] - curr\n",
    "    curr = item[0]"
   ]
  },
  {
   "cell_type": "code",
   "execution_count": null,
   "metadata": {
    "collapsed": false
   },
   "outputs": [],
   "source": [
    "print \"lo_pct\", float(lo_time)/load_tuples[-1][0]\n",
    "print \"med_pct\", float(med_time)/load_tuples[-1][0]\n",
    "print \"hi_pct\", float(hi_time)/load_tuples[-1][0]"
   ]
  },
  {
   "cell_type": "markdown",
   "metadata": {},
   "source": [
    "# TESTS"
   ]
  },
  {
   "cell_type": "code",
   "execution_count": null,
   "metadata": {
    "collapsed": true
   },
   "outputs": [],
   "source": [
    "inc_df = pd.read_sql_query(\"SELECT i_eventnumber FROM karen.for_ritvik2\", conn)"
   ]
  },
  {
   "cell_type": "code",
   "execution_count": null,
   "metadata": {
    "collapsed": false
   },
   "outputs": [],
   "source": [
    "sub_df = cad_df\n",
    "sub_df['iiu_tdispatch'] = cad_df['iiu_tdispatch'].apply(dispatch_tag)\n",
    "sub_df['iiu_tclear'] = cad_df['iiu_tclear'].apply(clear_tag)"
   ]
  },
  {
   "cell_type": "code",
   "execution_count": null,
   "metadata": {
    "collapsed": false
   },
   "outputs": [],
   "source": [
    "sub_df = sub_df.sort('iiu_tdispatch')"
   ]
  },
  {
   "cell_type": "code",
   "execution_count": null,
   "metadata": {
    "collapsed": false
   },
   "outputs": [],
   "source": [
    "zip_disp = zip(sub_df['i_eventnumber'], sub_df['iiu_tdispatch'], sub_df['full_unit_id'])\n",
    "zip_clear = zip(sub_df['i_eventnumber'], sub_df['iiu_tclear'], sub_df['full_unit_id'])\n",
    "zipped = zip_disp + zip_clear"
   ]
  },
  {
   "cell_type": "code",
   "execution_count": null,
   "metadata": {
    "collapsed": false
   },
   "outputs": [],
   "source": [
    "s = sorted(zipped, key = lambda x: x[1][0])"
   ]
  },
  {
   "cell_type": "code",
   "execution_count": null,
   "metadata": {
    "collapsed": false
   },
   "outputs": [],
   "source": [
    "s"
   ]
  },
  {
   "cell_type": "code",
   "execution_count": null,
   "metadata": {
    "collapsed": false
   },
   "outputs": [],
   "source": [
    "index = 0\n",
    "for i in range(len(s)):\n",
    "    if s[i][1][0].hour == 7:\n",
    "        index = i\n",
    "        break"
   ]
  },
  {
   "cell_type": "code",
   "execution_count": null,
   "metadata": {
    "collapsed": false
   },
   "outputs": [],
   "source": [
    "index"
   ]
  },
  {
   "cell_type": "code",
   "execution_count": null,
   "metadata": {
    "collapsed": false
   },
   "outputs": [],
   "source": [
    "s = s[index:]"
   ]
  },
  {
   "cell_type": "code",
   "execution_count": null,
   "metadata": {
    "collapsed": false
   },
   "outputs": [],
   "source": [
    "medics = medic_dict.keys()\n",
    "nums = [int(i[1:]) for i in medics]"
   ]
  },
  {
   "cell_type": "code",
   "execution_count": null,
   "metadata": {
    "collapsed": false
   },
   "outputs": [],
   "source": [
    "catch = []\n",
    "for item in s:\n",
    "    if ((item[2][0] == 'A' and len(item[2]) == 3) or (item[2][0] == 'R' and len(item[2]) == 3)) \\\n",
    "    and (int(item[2].strip('ABCDEFGHIJKLMNOPQRSTUVWXYZ')) in nums) :\n",
    "        catch.append(item[2])"
   ]
  },
  {
   "cell_type": "code",
   "execution_count": null,
   "metadata": {
    "collapsed": true
   },
   "outputs": [],
   "source": [
    "busy_dict = {}\n",
    "for item in catch:\n",
    "    busy_dict[item] = 0\n",
    "for item in medic_units:\n",
    "    busy_dict[item] = 0"
   ]
  },
  {
   "cell_type": "code",
   "execution_count": null,
   "metadata": {
    "collapsed": false
   },
   "outputs": [],
   "source": [
    "s[:5]"
   ]
  },
  {
   "cell_type": "code",
   "execution_count": null,
   "metadata": {
    "collapsed": false
   },
   "outputs": [],
   "source": [
    "trouble_inc = ['dummy']\n",
    "for item in s:\n",
    "    if (sum(busy_dict.values()) >= 12) and (item[0] != trouble_inc[-1]):\n",
    "        trouble_inc.append(item[0])\n",
    "    if item[2] in busy_dict.keys():\n",
    "        busy_dict[item[2]] = int(item[1][1] == 'd')\n",
    "    \n",
    "    \n",
    "    "
   ]
  },
  {
   "cell_type": "code",
   "execution_count": null,
   "metadata": {
    "collapsed": false
   },
   "outputs": [],
   "source": [
    "len(trouble_inc)"
   ]
  },
  {
   "cell_type": "code",
   "execution_count": null,
   "metadata": {
    "collapsed": false
   },
   "outputs": [],
   "source": [
    "trouble_inc = trouble_inc[1:]"
   ]
  },
  {
   "cell_type": "code",
   "execution_count": null,
   "metadata": {
    "collapsed": false
   },
   "outputs": [],
   "source": [
    "trouble_inc"
   ]
  },
  {
   "cell_type": "code",
   "execution_count": null,
   "metadata": {
    "collapsed": true
   },
   "outputs": [],
   "source": [
    "interest_ids = inc_df['i_eventnumber']"
   ]
  },
  {
   "cell_type": "code",
   "execution_count": null,
   "metadata": {
    "collapsed": true
   },
   "outputs": [],
   "source": [
    "my_ids = [i[0] for i in s]"
   ]
  },
  {
   "cell_type": "code",
   "execution_count": null,
   "metadata": {
    "collapsed": false
   },
   "outputs": [],
   "source": [
    "tf_list = []\n",
    "for item in interest_ids:\n",
    "    if item in trouble_inc:\n",
    "        tf_list.append(False)\n",
    "    else:\n",
    "        tf_list.append(True)"
   ]
  },
  {
   "cell_type": "code",
   "execution_count": null,
   "metadata": {
    "collapsed": false
   },
   "outputs": [],
   "source": [
    "inc_df['medic_available'] = tf_list"
   ]
  },
  {
   "cell_type": "code",
   "execution_count": null,
   "metadata": {
    "collapsed": false
   },
   "outputs": [],
   "source": [
    "inc_df.to_sql('available_medics2', con = conn_sqlalch, schema='karen')"
   ]
  },
  {
   "cell_type": "code",
   "execution_count": null,
   "metadata": {
    "collapsed": false
   },
   "outputs": [],
   "source": [
    "count = 0\n",
    "for i in range(len(tf_list)):\n",
    "    if tf_list[i] == False:\n",
    "        count += 1"
   ]
  },
  {
   "cell_type": "code",
   "execution_count": null,
   "metadata": {
    "collapsed": false
   },
   "outputs": [],
   "source": [
    "count"
   ]
  },
  {
   "cell_type": "markdown",
   "metadata": {},
   "source": [
    "# Histogram of Times"
   ]
  },
  {
   "cell_type": "code",
   "execution_count": null,
   "metadata": {
    "collapsed": false
   },
   "outputs": [],
   "source": [
    "time_seq_df = pd.read_sql(\"\"\"select extract(epoch from aprts.iiu_tclear - incident.i_ttimecreate)/60 as dt\n",
    "from  clean_csvs.dbo_iincident incident\n",
    "left join karen.features_table features using (i_eventnumber)\n",
    "left  join clean_csvs.dbo_rfirehouseapparatus aprts using (i_eventnumber)\n",
    "where features.trns_to_hosp is true\n",
    "and (aprts.pun_unitid like 'M__' \n",
    "or aprts.pun_unitid like 'A__' \n",
    "or aprts.pun_unitid like 'R__')\"\"\",conn)"
   ]
  },
  {
   "cell_type": "code",
   "execution_count": null,
   "metadata": {
    "collapsed": false
   },
   "outputs": [],
   "source": [
    "times = time_seq_df['dt']\n",
    "\n",
    "mpl.rcdefaults()\n",
    "\n",
    "iqr = np.subtract(*np.percentile(time_seq_df['dt'], [75, 25]))\n",
    "max_lim = iqr + np.percentile(time_seq_df['dt'], 75)\n",
    "min_lim = 0\n",
    "\n",
    "times_lim = [i for i in times if i >= min_lim and i <= max_lim]\n",
    "\n",
    "n, bins, patches = plt.hist(times_lim, bins = 100,  color ='red')\n",
    "\n",
    "plt.xlim(min_lim, max_lim)\n",
    "plt.xlabel(\"Minutes\", fontsize = 20)\n",
    "plt.ylabel(\"Number of Incidents\", fontsize = 20)\n",
    "plt.xticks(np.arange(int(min_lim), int(max_lim)+1,5), fontsize = 15)\n",
    "plt.xticks(np.arange(0, 5500, fontsize = 15)\n",
    "\n",
    "plt.axvline(times.mean(), color='b', linestyle='dashed', linewidth=5)\n",
    "\n",
    "fig = mpl.pyplot.gcf()\n",
    "fig.set_size_inches(18.5, 10.5)\n",
    "\n",
    "plt.savefig('HistOfInc.pdf')\n",
    "\n"
   ]
  },
  {
   "cell_type": "code",
   "execution_count": null,
   "metadata": {
    "collapsed": true
   },
   "outputs": [],
   "source": []
  }
 ],
 "metadata": {
  "kernelspec": {
   "display_name": "Python 2",
   "language": "python",
   "name": "python2"
  },
  "language_info": {
   "codemirror_mode": {
    "name": "ipython",
    "version": 2
   },
   "file_extension": ".py",
   "mimetype": "text/x-python",
   "name": "python",
   "nbconvert_exporter": "python",
   "pygments_lexer": "ipython2",
   "version": "2.7.6"
  }
 },
 "nbformat": 4,
 "nbformat_minor": 0
}
