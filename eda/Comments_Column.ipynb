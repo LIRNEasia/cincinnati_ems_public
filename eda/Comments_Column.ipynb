{
 "cells": [
  {
   "cell_type": "code",
   "execution_count": null,
   "metadata": {
    "collapsed": false
   },
   "outputs": [],
   "source": [
    "%load_ext autoreload \n",
    "%autoreload 2\n",
    "%matplotlib inline\n",
    "from __future__ import division\n",
    "import sys, os\n",
    "sys.path.insert(1, os.path.join(sys.path[0], '..'))\n",
    "from utils.pg_tools import PGWrangler\n",
    "import pandas as pd\n",
    "pd.options.display.mpl_style = 'default'  # Will raise error because deprecated\n",
    "import matplotlib.pyplot as plt\n",
    "plt.rcParams['figure.figsize'] = (10, 6)\n",
    "plt.rcParams.update({'font.size': 22})\n",
    "plt.rcParams['legend.fancybox'] = True\n",
    "import numpy as np\n",
    "from matplotlib import gridspec\n",
    "\n",
    "pgw = PGWrangler()\n",
    "engine = pgw.engine"
   ]
  },
  {
   "cell_type": "code",
   "execution_count": null,
   "metadata": {
    "collapsed": true
   },
   "outputs": [],
   "source": [
    "# Load feature table form Karen\n",
    "df = pd.read_sql_table('master',engine.connect(),'semantic')"
   ]
  },
  {
   "cell_type": "code",
   "execution_count": null,
   "metadata": {
    "collapsed": true
   },
   "outputs": [],
   "source": [
    "# Select only codes with year > 2012\n",
    "df = df[df['i_eventnumber'].apply(lambda x: int(x[3:5])>12)]"
   ]
  },
  {
   "cell_type": "code",
   "execution_count": null,
   "metadata": {
    "collapsed": false
   },
   "outputs": [],
   "source": [
    "sql = \"\"\"\n",
    "      select sem.i_eventnumber, \n",
    "      comm.\"COMMENTTEXT\" as comment\n",
    "      from \n",
    "      semantic.master as sem,\n",
    "      luigi_clean_sp.t_incident as inc,\n",
    "      luigi_clean_sp.t_case as c,\n",
    "      luigi_clean_sp.t_comment as comm\n",
    "      where \n",
    "      sem.i_eventnumber = inc.\"INCIDENTN\"\n",
    "      and\n",
    "      inc.\"KEY_INCIDENT\" = c.\"KEY_INCIDENT\"\n",
    "      and\n",
    "      c.\"KEY_CASE\" = comm.\"KEY_CASE\"\n",
    "      \"\"\"\n",
    "comments_df = pd.DataFrame(pgw.execute(sql) ,columns=('i_eventnumber','COMMENT'))"
   ]
  },
  {
   "cell_type": "code",
   "execution_count": null,
   "metadata": {
    "collapsed": false
   },
   "outputs": [],
   "source": [
    "df = pd.merge(df,comments_df,on='i_eventnumber')"
   ]
  },
  {
   "cell_type": "code",
   "execution_count": null,
   "metadata": {
    "collapsed": false
   },
   "outputs": [],
   "source": [
    "def refused(x):\n",
    "    try:\n",
    "        return (\"refused transport\" in x) or (\"refusal\" in x)\n",
    "    except:\n",
    "        return False"
   ]
  },
  {
   "cell_type": "code",
   "execution_count": null,
   "metadata": {
    "collapsed": false
   },
   "outputs": [],
   "source": [
    "df['refused'] = df['COMMENT'].apply(refused)"
   ]
  },
  {
   "cell_type": "code",
   "execution_count": null,
   "metadata": {
    "collapsed": false
   },
   "outputs": [],
   "source": [
    "df.head(10)"
   ]
  },
  {
   "cell_type": "code",
   "execution_count": null,
   "metadata": {
    "collapsed": false
   },
   "outputs": [],
   "source": [
    "fp = sum(df[df['refused']==True]['trns_to_hosp']==True)"
   ]
  },
  {
   "cell_type": "code",
   "execution_count": null,
   "metadata": {
    "collapsed": false
   },
   "outputs": [],
   "source": [
    "tp = sum(df[df['refused']==True]['trns_to_hosp']==False)"
   ]
  },
  {
   "cell_type": "code",
   "execution_count": null,
   "metadata": {
    "collapsed": false
   },
   "outputs": [],
   "source": [
    "print(\"FP: %d, TP: %d, FP/TP=%.2f\"%(fp,tp,fp/float(tp)))"
   ]
  },
  {
   "cell_type": "code",
   "execution_count": null,
   "metadata": {
    "collapsed": false
   },
   "outputs": [],
   "source": [
    "sum(df[df['refused']==True]['m_sent']==True)"
   ]
  },
  {
   "cell_type": "code",
   "execution_count": null,
   "metadata": {
    "collapsed": false
   },
   "outputs": [],
   "source": [
    "sum(df[df['refused']==True]['m_required']==True)"
   ]
  },
  {
   "cell_type": "code",
   "execution_count": null,
   "metadata": {
    "collapsed": false
   },
   "outputs": [],
   "source": [
    "sum(df['refused'])/sum(df['m_required'])"
   ]
  },
  {
   "cell_type": "code",
   "execution_count": null,
   "metadata": {
    "collapsed": false
   },
   "outputs": [],
   "source": [
    "sum(df[(df['refused']==True) & (df['m_required']==True)]['trns_to_hosp']==True)"
   ]
  },
  {
   "cell_type": "code",
   "execution_count": null,
   "metadata": {
    "collapsed": false
   },
   "outputs": [],
   "source": [
    "df[(df['refused']==True) & (df['trns_to_hosp']==True)]['COMMENT'].reset_index().ix[7]['COMMENT'] #6"
   ]
  }
 ],
 "metadata": {
  "kernelspec": {
   "display_name": "Python 2",
   "language": "python",
   "name": "python2"
  },
  "language_info": {
   "codemirror_mode": {
    "name": "ipython",
    "version": 2
   },
   "file_extension": ".py",
   "mimetype": "text/x-python",
   "name": "python",
   "nbconvert_exporter": "python",
   "pygments_lexer": "ipython2",
   "version": "2.7.6"
  }
 },
 "nbformat": 4,
 "nbformat_minor": 0
}
